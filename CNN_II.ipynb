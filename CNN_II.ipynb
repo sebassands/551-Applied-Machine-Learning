{
  "nbformat": 4,
  "nbformat_minor": 0,
  "metadata": {
    "kernelspec": {
      "display_name": "Python 3",
      "language": "python",
      "name": "python3"
    },
    "language_info": {
      "codemirror_mode": {
        "name": "ipython",
        "version": 3
      },
      "file_extension": ".py",
      "mimetype": "text/x-python",
      "name": "python",
      "nbconvert_exporter": "python",
      "pygments_lexer": "ipython3",
      "version": "3.6.6"
    },
    "colab": {
      "name": "CNN_II.ipynb",
      "provenance": [],
      "collapsed_sections": []
    }
  },
  "cells": [
    {
      "cell_type": "code",
      "metadata": {
        "id": "1GjxnFf2Tgk4",
        "colab_type": "code",
        "outputId": "93d07107-f81b-46fd-ce8b-37b5edce6bc5",
        "colab": {
          "base_uri": "https://localhost:8080/",
          "height": 52
        }
      },
      "source": [
        "%matplotlib inline\n",
        "import torch\n",
        "import torchvision\n",
        "import torchvision.transforms as transforms\n",
        "\n",
        "\n",
        "#Load the data. We set batch_size to 256 based on hyperparameter tuning\n",
        "\n",
        "transform = transforms.Compose(\n",
        "    [transforms.ToTensor(),\n",
        "     transforms.Normalize((0.5, 0.5, 0.5), (0.5, 0.5, 0.5))])\n",
        "\n",
        "\n",
        "trainset = torchvision.datasets.CIFAR10(root='./data', train=True,\n",
        "                                        download=True, transform=transform)\n",
        "trainloader = torch.utils.data.DataLoader(trainset, batch_size=256,\n",
        "                                          shuffle=True, num_workers=2)\n",
        "\n",
        "testset = torchvision.datasets.CIFAR10(root='./data', train=False,\n",
        "                                       download=True, transform=transform)\n",
        "testloader = torch.utils.data.DataLoader(testset, batch_size=256,\n",
        "                                         shuffle=False, num_workers=2)\n",
        "\n",
        "classes = ('plane', 'car', 'bird', 'cat',\n",
        "           'deer', 'dog', 'frog', 'horse', 'ship', 'truck')\n"
      ],
      "execution_count": 11,
      "outputs": [
        {
          "output_type": "stream",
          "text": [
            "Files already downloaded and verified\n",
            "Files already downloaded and verified\n"
          ],
          "name": "stdout"
        }
      ]
    },
    {
      "cell_type": "code",
      "metadata": {
        "id": "386qhY3nTglD",
        "colab_type": "code",
        "colab": {}
      },
      "source": [
        "import torch.nn as nn\n",
        "import torch.nn.functional as F\n",
        "\n",
        "#Here we define our neural net architecture \n",
        "\n",
        "class Net(nn.Module):\n",
        "    def __init__(self):\n",
        "        super(Net, self).__init__() \n",
        "\n",
        "        self.conv1 = nn.Conv2d(3, 6, 5) \n",
        "        self.pool = nn.MaxPool2d(2, 2)  \n",
        "        self.conv2 = nn.Conv2d(6, 16, 5) \n",
        "        self.fc1 = nn.Linear(16 * 5 * 5, 120) \n",
        "        self.fc2 = nn.Linear(120, 84)\n",
        "        self.fc3 = nn.Linear(84, 10) \n",
        "\n",
        "       \n",
        "    def forward(self, x):\n",
        "\n",
        "        x = self.pool(F.relu(self.conv1(x))) \n",
        "        x = self.pool(F.relu(self.conv2(x))) \n",
        "        x = x.view(-1, 16 * 5 * 5)\n",
        "        x = F.relu(self.fc1(x))\n",
        "        x = F.relu(self.fc2(x))\n",
        "        x = self.fc3(x) \n",
        "        return x\n",
        "\n",
        "\n",
        "net = Net() #creating an instance of our network class"
      ],
      "execution_count": 0,
      "outputs": []
    },
    {
      "cell_type": "code",
      "metadata": {
        "id": "OPvR0MJW2Wv8",
        "colab_type": "code",
        "outputId": "dd8dfa68-fb34-4f1d-e5fc-79e6e7379f1f",
        "colab": {
          "base_uri": "https://localhost:8080/",
          "height": 432
        }
      },
      "source": [
        "import torch.optim as optim \n",
        "\n",
        "# we use a \n",
        "!pip install livelossplot --quiet\n",
        "from livelossplot import PlotLosses\n",
        "\n",
        "criterion = nn.CrossEntropyLoss() \n",
        "\n",
        "#Here we use Adam over SGD with lr=0.001 based on hyperparameter tuning, with weight_decay=0.001 based on references \n",
        "optimizer = optim.Adam(net.parameters(), lr=0.001, weight_decay=0.001)\n",
        "\n",
        "dataloaders = {\n",
        "    \"train\": trainloader,\n",
        "    \"testing\": testloader\n",
        "}\n",
        "#make sure it runs on gpu\n",
        "device = torch.device('cuda:0' if torch.cuda.is_available() else 'cpu')\n",
        "def getnumcorrect (preds, labels):\n",
        "  return preds.argmax(dim=1).eq(labels).sum().item()\n",
        "\n",
        "\n",
        "num_epochs=30       # run over 30 epochs\n",
        "min_loss = 1        # set our minimum loss for stopping \n",
        "waiting_loss = 0    # used to calculate stopping\n",
        "n_epochs_stop = 5   # if there is no improvement on the loss for 5 straight epochs we end the process\n",
        "epochs_no_improve = 0  # counts how many epochs in a row it goes without loss improvment\n",
        "early_stop= False     # set to false to start\n",
        "correctones=[]        # initialize an array for correctones\n",
        "losses=[]             # initialize an array for losses\n",
        "liveloss = PlotLosses()\n",
        "net = net.to(device)\n",
        "for epoch in range(num_epochs): \n",
        "        logs = {}\n",
        "        for phase in ['train', 'testing']:  \n",
        "            if phase == 'train':\n",
        "                net.train()\n",
        "            else:\n",
        "                net.eval()\n",
        "\n",
        "            running_loss = 0.0\n",
        "            running_corrects = 0\n",
        "\n",
        "            for inputs, labels in dataloaders[phase]: \n",
        "                inputs = inputs.to(device)\n",
        "                labels = labels.to(device)\n",
        "\n",
        "                # forward + backward + optimize\n",
        "                outputs = net(inputs)\n",
        "                loss = criterion(outputs, labels) \n",
        "\n",
        "                if phase == 'train':\n",
        "                    optimizer.zero_grad() \n",
        "                    loss.backward()\n",
        "                    optimizer.step() \n",
        "\n",
        "\n",
        "                _, preds = torch.max(outputs, 1)\n",
        "                running_loss += loss.detach() * inputs.size(0)\n",
        "                running_corrects += torch.sum(preds == labels.data)\n",
        "                \n",
        "                if waiting_loss < running_loss < min_loss:\n",
        "                  epochs_no_improve += 1\n",
        "\n",
        "                if epochs_no_improve == n_epochs_stop:\n",
        "                   print('Early stopping!' )\n",
        "                   early_stop = True\n",
        "                   break\n",
        "                else:\n",
        "                   continue\n",
        "\n",
        "                waiting_loss = running_loss\n",
        "            if early_stop:\n",
        "              print(\"Stopped\")\n",
        "              break  \n",
        "\n",
        "            epoch_loss = running_loss / len(dataloaders[phase].dataset)\n",
        "            epoch_acc = running_corrects.float() / len(dataloaders[phase].dataset)\n",
        "            \n",
        "            prefix = ''\n",
        "            if phase == 'testing':\n",
        "                prefix = 'val_'\n",
        "\n",
        "            logs[prefix + 'loss'] = epoch_loss.item()\n",
        "            logs[prefix + 'accuracy'] = epoch_acc.item()\n",
        "        \n",
        "        liveloss.update(logs)\n",
        "        liveloss.send()\n"
      ],
      "execution_count": 0,
      "outputs": [
        {
          "output_type": "display_data",
          "data": {
            "image/png": "[encoded data removed]",
            "text/plain": [
              "<Figure size 864x576 with 2 Axes>"
            ]
          },
          "metadata": {
            "tags": [],
            "needs_background": "light"
          }
        },
        {
          "output_type": "stream",
          "text": [
            "accuracy\n",
            "\ttraining         \t (min:    0.095, max:    0.823, cur:    0.823)\n",
            "\tvalidation       \t (min:    0.100, max:    0.685, cur:    0.662)\n",
            "Loss\n",
            "\ttraining         \t (min:    0.507, max:    2.303, cur:    0.507)\n",
            "\tvalidation       \t (min:    0.927, max:    2.303, cur:    1.128)\n"
          ],
          "name": "stdout"
        }
      ]
    },
    {
      "cell_type": "code",
      "metadata": {
        "id": "jvJGYyNPTglc",
        "colab_type": "code",
        "outputId": "b7bf610e-7859-4bfa-dcc5-91741a8606ac",
        "colab": {
          "base_uri": "https://localhost:8080/",
          "height": 34
        }
      },
      "source": [
        "correct = 0\n",
        "total = 0\n",
        "with torch.no_grad():\n",
        "    for data in testloader:\n",
        "        images, labels = data\n",
        "        outputs = net(images)\n",
        "        _, predicted = torch.max(outputs.data, 1)\n",
        "        total += labels.size(0)\n",
        "        correct += (predicted == labels).sum().item()\n",
        "\n",
        "print('Accuracy of the network on the 10000 test images: %d %%' % (\n",
        "    100 * correct / total))"
      ],
      "execution_count": 0,
      "outputs": [
        {
          "output_type": "stream",
          "text": [
            "Accuracy of the network on the 10000 test images: 61 %\n"
          ],
          "name": "stdout"
        }
      ]
    },
    {
      "cell_type": "code",
      "metadata": {
        "id": "0Y8sYuokTglf",
        "colab_type": "code",
        "outputId": "33b9cc93-75db-4ff1-f8df-9c72507af7d4",
        "colab": {
          "base_uri": "https://localhost:8080/",
          "height": 180
        }
      },
      "source": [
        "class_correct = list(0. for i in range(10))\n",
        "class_total = list(0. for i in range(10))\n",
        "with torch.no_grad():\n",
        "    for data in testloader:\n",
        "        images, labels = data\n",
        "        outputs = net(images)\n",
        "        _, predicted = torch.max(outputs, 1)\n",
        "        c = (predicted == labels).squeeze()\n",
        "        for i in range(4):\n",
        "            label = labels[i]\n",
        "            class_correct[label] += c[i].item()\n",
        "            class_total[label] += 1\n",
        "\n",
        "\n",
        "for i in range(10):\n",
        "    print('Accuracy of %5s : %2d %%' % (\n",
        "        classes[i], 100 * class_correct[i] / class_total[i]))"
      ],
      "execution_count": 0,
      "outputs": [
        {
          "output_type": "stream",
          "text": [
            "Accuracy of plane : 66 %\n",
            "Accuracy of   car : 76 %\n",
            "Accuracy of  bird : 49 %\n",
            "Accuracy of   cat : 47 %\n",
            "Accuracy of  deer : 63 %\n",
            "Accuracy of   dog : 43 %\n",
            "Accuracy of  frog : 71 %\n",
            "Accuracy of horse : 61 %\n",
            "Accuracy of  ship : 77 %\n",
            "Accuracy of truck : 74 %\n"
          ],
          "name": "stdout"
        }
      ]
    },
    {
      "cell_type": "code",
      "metadata": {
        "id": "s8ukY5oCp06B",
        "colab_type": "code",
        "colab": {
          "base_uri": "https://localhost:8080/",
          "height": 597
        },
        "outputId": "4659d079-f03b-4e82-ffaa-f5f29b71e5b7"
      },
      "source": [
        "fig, ax = plt.subplots(1,1,figsize=(8,6))\n",
        "ax.matshow(confusion_matrix, aspect='auto', vmin=0, vmax=1000, cmap=plt.get_cmap('Blues'))\n",
        "plt.ylabel('Actual Category')\n",
        "plt.yticks(range(10), classes)\n",
        "plt.xlabel('Predicted Category')\n",
        "plt.xticks(range(10), classes)\n",
        "plt.show()"
      ],
      "execution_count": 10,
      "outputs": [
        {
          "output_type": "error",
          "ename": "NameError",
          "evalue": "ignored",
          "traceback": [
            "\u001b[0;31m---------------------------------------------------------------------------\u001b[0m",
            "\u001b[0;31mNameError\u001b[0m                                 Traceback (most recent call last)",
            "\u001b[0;32m<ipython-input-10-f1a1d7415ba8>\u001b[0m in \u001b[0;36m<module>\u001b[0;34m()\u001b[0m\n\u001b[1;32m      1\u001b[0m \u001b[0mfig\u001b[0m\u001b[0;34m,\u001b[0m \u001b[0max\u001b[0m \u001b[0;34m=\u001b[0m \u001b[0mplt\u001b[0m\u001b[0;34m.\u001b[0m\u001b[0msubplots\u001b[0m\u001b[0;34m(\u001b[0m\u001b[0;36m1\u001b[0m\u001b[0;34m,\u001b[0m\u001b[0;36m1\u001b[0m\u001b[0;34m,\u001b[0m\u001b[0mfigsize\u001b[0m\u001b[0;34m=\u001b[0m\u001b[0;34m(\u001b[0m\u001b[0;36m8\u001b[0m\u001b[0;34m,\u001b[0m\u001b[0;36m6\u001b[0m\u001b[0;34m)\u001b[0m\u001b[0;34m)\u001b[0m\u001b[0;34m\u001b[0m\u001b[0;34m\u001b[0m\u001b[0m\n\u001b[0;32m----> 2\u001b[0;31m \u001b[0max\u001b[0m\u001b[0;34m.\u001b[0m\u001b[0mmatshow\u001b[0m\u001b[0;34m(\u001b[0m\u001b[0mconfusion_matrix\u001b[0m\u001b[0;34m,\u001b[0m \u001b[0maspect\u001b[0m\u001b[0;34m=\u001b[0m\u001b[0;34m'auto'\u001b[0m\u001b[0;34m,\u001b[0m \u001b[0mvmin\u001b[0m\u001b[0;34m=\u001b[0m\u001b[0;36m0\u001b[0m\u001b[0;34m,\u001b[0m \u001b[0mvmax\u001b[0m\u001b[0;34m=\u001b[0m\u001b[0;36m1000\u001b[0m\u001b[0;34m,\u001b[0m \u001b[0mcmap\u001b[0m\u001b[0;34m=\u001b[0m\u001b[0mplt\u001b[0m\u001b[0;34m.\u001b[0m\u001b[0mget_cmap\u001b[0m\u001b[0;34m(\u001b[0m\u001b[0;34m'Blues'\u001b[0m\u001b[0;34m)\u001b[0m\u001b[0;34m)\u001b[0m\u001b[0;34m\u001b[0m\u001b[0;34m\u001b[0m\u001b[0m\n\u001b[0m\u001b[1;32m      3\u001b[0m \u001b[0mplt\u001b[0m\u001b[0;34m.\u001b[0m\u001b[0mylabel\u001b[0m\u001b[0;34m(\u001b[0m\u001b[0;34m'Actual Category'\u001b[0m\u001b[0;34m)\u001b[0m\u001b[0;34m\u001b[0m\u001b[0;34m\u001b[0m\u001b[0m\n\u001b[1;32m      4\u001b[0m \u001b[0mplt\u001b[0m\u001b[0;34m.\u001b[0m\u001b[0myticks\u001b[0m\u001b[0;34m(\u001b[0m\u001b[0mrange\u001b[0m\u001b[0;34m(\u001b[0m\u001b[0;36m10\u001b[0m\u001b[0;34m)\u001b[0m\u001b[0;34m,\u001b[0m \u001b[0mclasses\u001b[0m\u001b[0;34m)\u001b[0m\u001b[0;34m\u001b[0m\u001b[0;34m\u001b[0m\u001b[0m\n\u001b[1;32m      5\u001b[0m \u001b[0mplt\u001b[0m\u001b[0;34m.\u001b[0m\u001b[0mxlabel\u001b[0m\u001b[0;34m(\u001b[0m\u001b[0;34m'Predicted Category'\u001b[0m\u001b[0;34m)\u001b[0m\u001b[0;34m\u001b[0m\u001b[0;34m\u001b[0m\u001b[0m\n",
            "\u001b[0;31mNameError\u001b[0m: name 'confusion_matrix' is not defined"
          ]
        },
        {
          "output_type": "display_data",
          "data": {
            "image/png": "[encoded data removed]",
            "text/plain": [
              "<Figure size 576x432 with 1 Axes>"
            ]
          },
          "metadata": {
            "tags": [],
            "needs_background": "light"
          }
        }
      ]
    },
    {
      "cell_type": "markdown",
      "metadata": {
        "id": "73V9ikC9EutE",
        "colab_type": "text"
      },
      "source": [
        "**Tensor Board and Hyperparameter Tuning**\n",
        "\n",
        "In this section we explored Tensor Board and also tune the hyperparameters 'batch size' and 'learning rate'."
      ]
    },
    {
      "cell_type": "code",
      "metadata": {
        "id": "NNTHa-Oo-CFX",
        "colab_type": "code",
        "colab": {}
      },
      "source": [
        "from torch.utils.tensorboard import SummaryWriter\n",
        "%load_ext tensorboard\n",
        "%tensorboard --logdir=runs"
      ],
      "execution_count": 0,
      "outputs": []
    },
    {
      "cell_type": "code",
      "metadata": {
        "id": "IJ604dmPBQj_",
        "colab_type": "code",
        "colab": {}
      },
      "source": [
        "tb = SummaryWriter()\n",
        "\n",
        "network = Net()\n",
        "images, labels = next(iter(trainloader))\n",
        "grid = torchvision.utils.make_grid(images)\n",
        "\n",
        "tb.add_image('images', grid)\n",
        "tb.add_graph(network, images)\n",
        "tb.close()"
      ],
      "execution_count": 0,
      "outputs": []
    },
    {
      "cell_type": "code",
      "metadata": {
        "id": "jLjbbcwB4_UX",
        "colab_type": "code",
        "colab": {}
      },
      "source": [
        "tensorboard --logdir=runs"
      ],
      "execution_count": 0,
      "outputs": []
    },
    {
      "cell_type": "code",
      "metadata": {
        "id": "SKgowVHvCNbn",
        "colab_type": "code",
        "colab": {}
      },
      "source": [
        "def getnumcorrect (preds, labels):\n",
        "  return preds.argmax(dim=1).eq(labels).sum().item()\n",
        "\n",
        "min_loss = 0.001\n",
        "n_epochs_stop = 20\n",
        "epochs_no_improve = 0\n",
        "early_stop= False \n",
        "running_loss = 0.0\n",
        "total_correct=0.0\n",
        "for epoch in range(200):  # loop over the dataset multiple times\n",
        "\n",
        "    running_loss = 0.0\n",
        "    total_correct=0.0\n",
        "    for i, data in enumerate(trainloader, 0): #going through all the batches from our training set\n",
        "        # get the inputs\n",
        "        inputs, labels = data #we are unpacking the 'images' inputs and labels from the current batch\n",
        "\n",
        "        # zero the parameter gradients\n",
        "        optimizer.zero_grad()\n",
        "\n",
        "        # forward + backward + optimize\n",
        "        outputs = net(inputs) #pass the 'images' inputs to the network and what we get here is the predicted values (tensor)\n",
        "        loss = criterion(outputs, labels) #we apply our cross entropy loss function over the predictions and the labels (targets)\n",
        "        loss.backward() #calculating the gradients by calling the backward function on the loss tensor. When we call backward all of the gradients for all of the tensor are calculated\n",
        "        optimizer.step() #we call the optimizer (SGD). Here the weights are updated, when we call step in our optimizer we are telling it that we want to step in the direction of the loss function minimum\n",
        "        #WE CAN CALCULATE NUM OF CORR PREDICTIONS AND GRAPH THEM\n",
        "\n",
        "        # print statistics\n",
        "        running_loss += loss.item() \n",
        "        total_correct += getnumcorrect(outputs, labels)\n",
        "        \n",
        "        if running_loss < min_loss:\n",
        "          epochs_no_improve += 1\n",
        "          min_val_loss = running_loss\n",
        "          \n",
        "          \n",
        "              \n",
        "\n",
        "        if i % 2000 == 1999:    # print every 2000 mini-batches\n",
        "            print('acc',total_correct/len(trainset),'epoch',epoch,'[%d, %5d] loss: %.3f' %\n",
        "                  (epoch + 1, i + 1, running_loss / 2000))\n",
        "            \n",
        "       \n",
        "        \n",
        "        if epochs_no_improve == n_epochs_stop:\n",
        "          print('Early stopping!' )\n",
        "          early_stop = True\n",
        "          break\n",
        "        else:\n",
        "          continue\n",
        "    if early_stop:\n",
        "      print(\"Stopped\")\n",
        "      break\n",
        "    \n",
        "    tb.add_scalar('Loss', running_loss, epoch)\n",
        "    tb.add_scalar('Number Correct', total_correct, epoch)\n",
        "    tb.add_scalar('Accuracy', total_correct / len(trainset), epoch)\n",
        "\n",
        "    tb.add_histogram('conv1.bias', network.conv1.bias, epoch)\n",
        "    tb.add_histogram('conv1.weight', network.conv1.weight, epoch)\n",
        "    #tb.add_histogram('conv1.weight.grad', network.conv1.weight.grad, epoch)\n",
        "\n",
        "    \n",
        "\n",
        "print('Finished Training')"
      ],
      "execution_count": 0,
      "outputs": []
    },
    {
      "cell_type": "code",
      "metadata": {
        "id": "HBk5fPd3FIjv",
        "colab_type": "code",
        "colab": {}
      },
      "source": [
        "batch_size = 100\n",
        "lr = 0.01\n",
        "\n",
        "\n",
        "network = Net()\n",
        "trainloader = torch.utils.data.DataLoader(trainset, batch_size=100)\n",
        "\n",
        "optimizer = optim.Adam(network.parameters(), lr=0.001)\n"
      ],
      "execution_count": 0,
      "outputs": []
    },
    {
      "cell_type": "code",
      "metadata": {
        "id": "20W6aaD2AX6I",
        "colab_type": "code",
        "colab": {}
      },
      "source": [
        "tb = SummaryWriter(comment=f' batch_size={batch_size} lr={lr}')"
      ],
      "execution_count": 0,
      "outputs": []
    },
    {
      "cell_type": "code",
      "metadata": {
        "id": "XEv2Rmkh23Jo",
        "colab_type": "code",
        "colab": {}
      },
      "source": [
        "batch_size_list = [8, 32, 64, 128, 256, 500, 1000]\n",
        "lr_list = [.01, .001, .0001]\n",
        "losses = []\n",
        "\n",
        "def getnumcorrect (preds, labels):\n",
        "  return preds.argmax(dim=1).eq(labels).sum().item()"
      ],
      "execution_count": 0,
      "outputs": []
    },
    {
      "cell_type": "code",
      "metadata": {
        "id": "BN4cWxL2bUx3",
        "colab_type": "code",
        "colab": {}
      },
      "source": [
        "\n",
        "correctones=[]\n",
        "losses=[]\n",
        "for batch_size in batch_size_list:\n",
        "    for lr in lr_list:\n",
        "        network = Net()\n",
        "\n",
        "        trainloader = torch.utils.data.DataLoader(\n",
        "            trainset, batch_size=batch_size\n",
        "        )\n",
        "        optimizer = optim.SGD(network.parameters(), lr=0.001, momentum=0.9)\n",
        "\n",
        "        images, labels = next(iter(trainloader))\n",
        "        grid = torchvision.utils.make_grid(images)\n",
        "\n",
        "        comment=f' batch_size={batch_size} lr={lr}'\n",
        "        tb = SummaryWriter(comment=comment)\n",
        "        tb.add_image('images', grid)\n",
        "        tb.add_graph(network, images)\n",
        "        running_loss=0.0\n",
        "        total_correct=0.0\n",
        "        for epoch in range(50):\n",
        "            \n",
        "            for i, data in enumerate(trainloader, 0): #going through all the batches from our training set\n",
        "            \n",
        "              # get the inputs\n",
        "              inputs, labels = data #we are unpacking the 'images' inputs and labels from the current batch\n",
        "\n",
        "              # zero the parameter gradients\n",
        "              optimizer.zero_grad()\n",
        "\n",
        "              # forward + backward + optimize\n",
        "              outputs = network(inputs) #pass the 'images' inputs to the network and what we get here is the predicted values (tensor)\n",
        "              loss = criterion(outputs, labels) #we apply our cross entropy loss function over the predictions and the labels (targets)\n",
        "              loss.backward() #calculating the gradients by calling the backward function on the loss tensor. When we call backward all of the gradients for all of the tensor are calculated\n",
        "              optimizer.step() #we call the optimizer (SGD). Here the weights are updated, when we call step in our optimizer we are telling it that we want to step in the direction of the loss function minimum\n",
        "              #WE CAN CALCULATE NUM OF CORR PREDICTIONS AND GRAPH THEM\n",
        "\n",
        "              # print statistics\n",
        "              running_loss += loss.item() \n",
        "              total_correct += getnumcorrect(outputs, labels)\n",
        "              losses.append(loss.item())\n",
        "             # if i % 2000 == 1999:    # print every 2000 mini-batches\n",
        "              #    print('acc',total_correct/len(trainset),'epoch',epoch,'[%d, %5d] loss: %.3f' %\n",
        "               #         (epoch + 1, i + 1, running_loss / 2000))\n",
        "                #  running_loss = 0.0\n",
        "        \n",
        "            tb.add_scalar(\n",
        "                'Loss', running_loss, epoch\n",
        "            )\n",
        "            tb.add_scalar(\n",
        "                'Number Correct', total_correct, epoch\n",
        "            )\n",
        "            tb.add_scalar(\n",
        "                'Accuracy', total_correct / len(trainset), epoch \n",
        "            )\n",
        "\n",
        "            for name, param in network.named_parameters():\n",
        "                tb.add_histogram(name, param, epoch)\n",
        "\n",
        "            correctones.append(total_correct / len(trainset))\n",
        "            losses.append(running_loss/ len(trainloader))  \n",
        "                #tb.add_histogram(f'{name}.grad', param.grad, epoch)\n",
        "\n",
        "            #if i % 2000 == 1999:    # print every 2000 mini-batches\n",
        "             # print('acc',total_correct/len(trainset),'epoch',epoch,'[%d, %5d] loss: %.3f' %\n",
        "                   # (epoch + 1, i + 1, running_loss / 2000))\n",
        "              #running_loss = 0.0\n",
        "            \n",
        "            #print(\n",
        "             #   \"epoch\", epoch\n",
        "              #  ,\"total_correct:\", total_correct/len(trainset)\n",
        "               # ,\"loss:\", running_loss/2000\n",
        "            #)  \n",
        "        tb.close()\n",
        "\n",
        "plt.plot(losses, label='loss')\n",
        "plt.xlabel('Epoch')\n",
        "plt.ylabel('Cost (CE)')\n",
        "plt.legend()\n",
        "plt.grid(True)\n",
        "plt.show()\n",
        "\n",
        "plt.plot(correctones, label='Accuracy')\n",
        "plt.xlabel('Epoch')\n",
        "plt.ylabel('Accuracy')\n",
        "plt.legend()\n",
        "plt.grid(True)\n",
        "plt.show()"
      ],
      "execution_count": 0,
      "outputs": []
    },
    {
      "cell_type": "code",
      "metadata": {
        "id": "lgnctrAALjep",
        "colab_type": "code",
        "colab": {}
      },
      "source": [
        "tensorboard --logdir=runs"
      ],
      "execution_count": 0,
      "outputs": []
    }
  ]
}