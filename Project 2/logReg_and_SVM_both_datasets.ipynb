{
  "nbformat": 4,
  "nbformat_minor": 0,
  "metadata": {
    "colab": {
      "name": "MP2_Lia.ipynb",
      "provenance": [],
      "toc_visible": true
    },
    "kernelspec": {
      "name": "python3",
      "display_name": "Python 3"
    },
    "accelerator": "GPU"
  },
  "cells": [
    {
      "cell_type": "markdown",
      "metadata": {
        "id": "7R-7Hefg9tm4",
        "colab_type": "text"
      },
      "source": [
        "# Loading data\n"
      ]
    },
    {
      "cell_type": "code",
      "metadata": {
        "id": "_MfErzzsVGL3",
        "colab_type": "code",
        "colab": {}
      },
      "source": [
        "# Imports\n",
        "from sklearn.datasets import load_files\n",
        "from sklearn.feature_extraction.text import CountVectorizer, TfidfVectorizer, TfidfTransformer \n",
        "from sklearn.naive_bayes import MultinomialNB\n",
        "from sklearn.pipeline import Pipeline\n",
        "from sklearn.metrics import accuracy_score\n",
        "from sklearn.model_selection import GridSearchCV\n",
        "from sklearn.linear_model import LogisticRegression\n",
        "from sklearn.svm import LinearSVC\n",
        "import time\n",
        "from sklearn.datasets import fetch_20newsgroups\n",
        "from sklearn.model_selection import train_test_split\n",
        "from sklearn.model_selection import cross_validate\n",
        "import numpy as np\n",
        "import matplotlib.pyplot as plt"
      ],
      "execution_count": 0,
      "outputs": []
    },
    {
      "cell_type": "code",
      "metadata": {
        "id": "rv3Nwx_hSqrw",
        "colab_type": "code",
        "outputId": "f8aca3a5-e777-4590-bac3-76dc4ee53000",
        "colab": {
          "base_uri": "https://localhost:8080/",
          "height": 156
        }
      },
      "source": [
        "# Get the Imdb data (will go in Colab's \"content\" folder)\n",
        "# Must run this once per 12 hours (files deleted from Colab's memory)\n",
        "! git clone https://gitlab.com/formenli/aclimdbdata.git"
      ],
      "execution_count": 0,
      "outputs": [
        {
          "output_type": "stream",
          "text": [
            "Cloning into 'aclimdbdata'...\n",
            "remote: Enumerating objects: 98534, done.\u001b[K\n",
            "remote: Counting objects: 100% (98534/98534), done.\u001b[K\n",
            "remote: Compressing objects: 100% (98513/98513), done.\u001b[K\n",
            "remote: Total 98534 (delta 25), reused 98514 (delta 13), pack-reused 0\u001b[K\n",
            "Receiving objects: 100% (98534/98534), 94.86 MiB | 10.05 MiB/s, done.\n",
            "Resolving deltas: 100% (25/25), done.\n",
            "Checking out files: 100% (50030/50030), done.\n"
          ],
          "name": "stdout"
        }
      ]
    },
    {
      "cell_type": "code",
      "metadata": {
        "colab_type": "code",
        "id": "Ap-zU7VtQVWR",
        "colab": {}
      },
      "source": [
        "# Load Imdb data. Takes in path to directory containing sub dirs that contain data of each output class respectively.\n",
        "# Outputs a dict-like object, where .data is the data, .targets are the output classes, and .target_names is a list\n",
        "# of the names given to each target (where the number corresponds to the index)\n",
        "imdbTrain = load_files(\"aclimdbdata/train/\")\n",
        "imdbTest = load_files(\"aclimdbdata/test/\")"
      ],
      "execution_count": 0,
      "outputs": []
    },
    {
      "cell_type": "code",
      "metadata": {
        "id": "fYEi5dfaQV-D",
        "colab_type": "code",
        "colab": {}
      },
      "source": [
        "# Load subsets for debugging\n",
        "imdbSubsetTrain = load_files(\"aclimdbdata/subsetTrain/\")"
      ],
      "execution_count": 0,
      "outputs": []
    },
    {
      "cell_type": "markdown",
      "metadata": {
        "id": "0AGss-q497KI",
        "colab_type": "text"
      },
      "source": [
        "# Multinomial NB on Imdb"
      ]
    },
    {
      "cell_type": "code",
      "metadata": {
        "id": "Ys4XyFPXfDeR",
        "colab_type": "code",
        "outputId": "7c0ec6b7-ce8c-4de5-b78a-aae8acb7b780",
        "colab": {
          "base_uri": "https://localhost:8080/",
          "height": 35
        }
      },
      "source": [
        "# Preliminary playing with the Imdb data, Multinomial Naive Bayes fit\n",
        "# NB often used as a baseline because no hyperparams to tune.\n",
        "\n",
        "text_clf = Pipeline([\n",
        "    ('vect', CountVectorizer()),\n",
        "    ('tfidf', TfidfTransformer()),\n",
        "    ('clf', MultinomialNB()),\n",
        "    ])\n",
        "text_clf.fit(imdbTrain.data, imdbTrain.target)\n",
        "\n",
        "# Predict \n",
        "predicted = text_clf.predict(imdbTest.data)\n",
        "accuracy_score(imdbTest.target, predicted)    "
      ],
      "execution_count": 0,
      "outputs": [
        {
          "output_type": "execute_result",
          "data": {
            "text/plain": [
              "0.82956"
            ]
          },
          "metadata": {
            "tags": []
          },
          "execution_count": 8
        }
      ]
    },
    {
      "cell_type": "markdown",
      "metadata": {
        "id": "Z09ofwuKh3ym",
        "colab_type": "text"
      },
      "source": [
        "# Logistic regression on Imdb"
      ]
    },
    {
      "cell_type": "code",
      "metadata": {
        "id": "8xYWjSh9SyEl",
        "colab_type": "code",
        "outputId": "e346437f-b1ec-445a-badb-f8bd72370707",
        "colab": {
          "base_uri": "https://localhost:8080/",
          "height": 139
        }
      },
      "source": [
        "# SKLearn default logistic regression\n",
        "# Penalty: l2\n",
        "# Solver lbfgs\n",
        "# Inverse reg strength (C): 1.0\n",
        "\n",
        "default_LR_clf = Pipeline([\n",
        "                           ('vect', CountVectorizer()),\n",
        "                           ('tfidf', TfidfTransformer()),\n",
        "                           ('clf', LogisticRegression()),\n",
        "])\n",
        "\n",
        "LR_imdb_default_results = cross_validate(default_LR_clf, imdbTrain.data, imdbTrain.target, return_train_score=True, cv=5, n_jobs=-1, verbose=1)\n",
        "print('CV accuracy: ', np.mean(LR_imdb_default_results['test_score']))\n",
        "print('Mean fit time: ', np.mean(LR_imdb_default_results['fit_time']))\n",
        "print('Train acc: ', np.mean(LR_imdb_default_results['train_score']))\n",
        "\n",
        "start = time.time()\n",
        "default_LR_clf.fit(imdbTrain.data, imdbTrain.target)\n",
        "print('Train time:', time.time() - start)\n",
        "# Training accuracy\n",
        "trainPredictions = default_LR_clf.predict(imdbTrain.data)\n",
        "print('Train accuracy: ', accuracy_score(imdbTrain.target, trainPredictions))"
      ],
      "execution_count": 0,
      "outputs": [
        {
          "output_type": "stream",
          "text": [
            "[Parallel(n_jobs=-1)]: Using backend LokyBackend with 2 concurrent workers.\n",
            "[Parallel(n_jobs=-1)]: Done   5 out of   5 | elapsed:  2.1min finished\n"
          ],
          "name": "stderr"
        },
        {
          "output_type": "stream",
          "text": [
            "CV accuracy:  0.7248545294639129\n",
            "Mean fit time:  42.02966232299805\n",
            "Train acc:  0.910243944402449\n",
            "Train time: 5.501657485961914\n",
            "Train accuracy:  0.93328\n"
          ],
          "name": "stdout"
        }
      ]
    },
    {
      "cell_type": "code",
      "metadata": {
        "id": "xH7YoXyhlAK-",
        "colab_type": "code",
        "outputId": "6d41fb37-0fbd-4c6a-f20d-d234bd37b76b",
        "colab": {
          "base_uri": "https://localhost:8080/",
          "height": 156
        }
      },
      "source": [
        "# Grid search of non continuous parameters\n",
        "# Only sensible combinations\n",
        "# Group 1: penalty=l2,none; solvers=lbfgs, newton-cg, sag, saga\n",
        "\n",
        "# Build pipeline\n",
        "LR1_clf = Pipeline([\n",
        "    ('vect', CountVectorizer()),\n",
        "    ('tfidf', TfidfTransformer()),\n",
        "    ('clf', LogisticRegression()),\n",
        "])\n",
        "# Params for grid search\n",
        "params = {'clf__penalty': ('l2','none'),\n",
        "          'clf__C': (0.001, 0.1, 1, 10),\n",
        "          'clf__solver': ('lbfgs', 'newton-cg', 'sag', 'saga')}\n",
        "\n",
        "LR1_gs_clf = GridSearchCV(LR1_clf, params, n_jobs=-1, return_train_score=True)\n",
        "LR1_gs_clf.fit(imdbTrain.data, imdbTrain.target)\n",
        "\n",
        "for param_name in sorted(params.keys()):\n",
        "  print(\"%s : %r\" % (param_name, LR1_gs_clf.best_params_[param_name]))\n",
        "print('Train time for best params:', LR1_gs_clf.cv_results_['mean_fit_time'][LR1_gs_clf.best_index_])\n",
        "print('Train acc for best params:', LR1_gs_clf.cv_results_['mean_train_score'][LR1_gs_clf.best_index_])\n",
        "print('CV acc for best params:', LR1_gs_clf.best_score_)\n",
        "\n",
        "# Check how the best performs:\n",
        "LR1_best_clf = Pipeline([\n",
        "                         ('vect', CountVectorizer()),\n",
        "                         ('tfidf', TfidfTransformer()),\n",
        "                         ('clf', LogisticRegression(penalty=LR1_gs_clf.best_params_['clf__penalty'],\n",
        "                                           solver=LR1_gs_clf.best_params_['clf__solver'],\n",
        "                                           C=LR1_gs_clf.best_params_['clf__C']))\n",
        "])\n",
        "\n",
        "start = time.time()\n",
        "LR1_best_clf.fit(imdbTrain.data, imdbTrain.target)\n",
        "print('Train time:', time.time()-start)\n",
        "# Train acc\n",
        "trainPreds = LR1_best_clf.predict(imdbTrain.data)\n",
        "print('Train acc:', accuracy_score(trainPreds, imdbTrain.target))"
      ],
      "execution_count": 0,
      "outputs": [
        {
          "output_type": "stream",
          "text": [
            "clf__C : 10\n",
            "clf__penalty : 'l2'\n",
            "clf__solver : 'newton-cg'\n",
            "Train time for best params: 8.83703408241272\n",
            "Train acc for best params: 0.9895900000000001\n",
            "CV acc for best params: 0.8945599999999999\n",
            "Train time: 8.308072328567505\n",
            "Train acc: 0.98764\n"
          ],
          "name": "stdout"
        }
      ]
    },
    {
      "cell_type": "code",
      "metadata": {
        "id": "fegoxv8EuVI5",
        "colab_type": "code",
        "outputId": "966dead1-4e5f-4894-bf55-234c4d948c60",
        "colab": {
          "base_uri": "https://localhost:8080/",
          "height": 572
        }
      },
      "source": [
        "# Exploring group 1 results a little more fully\n",
        "for p, t, r in zip(LR1_gs_clf.cv_results_['params'], LR1_gs_clf.cv_results_['mean_fit_time'], LR1_gs_clf.cv_results_['mean_test_score']):\n",
        "  print(p,t,r)\n",
        "# Output shows that essentially lbfgs and newton-cg come out with the same acc but lbfgs is consistently faster => preferred."
      ],
      "execution_count": 0,
      "outputs": [
        {
          "output_type": "stream",
          "text": [
            "{'clf__C': 0.001, 'clf__penalty': 'l2', 'clf__solver': 'lbfgs'} 5.338502073287964 0.76908\n",
            "{'clf__C': 0.001, 'clf__penalty': 'l2', 'clf__solver': 'newton-cg'} 5.825904798507691 0.76908\n",
            "{'clf__C': 0.001, 'clf__penalty': 'l2', 'clf__solver': 'sag'} 7.357763147354126 0.76956\n",
            "{'clf__C': 0.001, 'clf__penalty': 'l2', 'clf__solver': 'saga'} 7.315402221679688 0.7696799999999999\n",
            "{'clf__C': 0.001, 'clf__penalty': 'none', 'clf__solver': 'lbfgs'} 7.226515674591065 0.8788\n",
            "{'clf__C': 0.001, 'clf__penalty': 'none', 'clf__solver': 'newton-cg'} 10.254513788223267 0.87748\n",
            "{'clf__C': 0.001, 'clf__penalty': 'none', 'clf__solver': 'sag'} 10.751192045211791 0.88484\n",
            "{'clf__C': 0.001, 'clf__penalty': 'none', 'clf__solver': 'saga'} 11.900542497634888 0.88644\n",
            "{'clf__C': 0.1, 'clf__penalty': 'l2', 'clf__solver': 'lbfgs'} 5.85276689529419 0.84856\n",
            "{'clf__C': 0.1, 'clf__penalty': 'l2', 'clf__solver': 'newton-cg'} 6.863955497741699 0.84856\n",
            "{'clf__C': 0.1, 'clf__penalty': 'l2', 'clf__solver': 'sag'} 5.843652582168579 0.84856\n",
            "{'clf__C': 0.1, 'clf__penalty': 'l2', 'clf__solver': 'saga'} 6.473183059692383 0.84856\n",
            "{'clf__C': 0.1, 'clf__penalty': 'none', 'clf__solver': 'lbfgs'} 6.89566707611084 0.8788\n",
            "{'clf__C': 0.1, 'clf__penalty': 'none', 'clf__solver': 'newton-cg'} 10.648595285415649 0.87748\n",
            "{'clf__C': 0.1, 'clf__penalty': 'none', 'clf__solver': 'sag'} 10.81052269935608 0.88504\n",
            "{'clf__C': 0.1, 'clf__penalty': 'none', 'clf__solver': 'saga'} 12.021816444396972 0.8865999999999999\n",
            "{'clf__C': 1, 'clf__penalty': 'l2', 'clf__solver': 'lbfgs'} 7.535350894927978 0.8883599999999999\n",
            "{'clf__C': 1, 'clf__penalty': 'l2', 'clf__solver': 'newton-cg'} 8.114321851730347 0.88832\n",
            "{'clf__C': 1, 'clf__penalty': 'l2', 'clf__solver': 'sag'} 6.156930828094483 0.88832\n",
            "{'clf__C': 1, 'clf__penalty': 'l2', 'clf__solver': 'saga'} 6.507105445861816 0.88832\n",
            "{'clf__C': 1, 'clf__penalty': 'none', 'clf__solver': 'lbfgs'} 7.214608478546142 0.8788\n",
            "{'clf__C': 1, 'clf__penalty': 'none', 'clf__solver': 'newton-cg'} 11.480475378036498 0.87748\n",
            "{'clf__C': 1, 'clf__penalty': 'none', 'clf__solver': 'sag'} 11.068675231933593 0.8855999999999999\n",
            "{'clf__C': 1, 'clf__penalty': 'none', 'clf__solver': 'saga'} 12.328274488449097 0.88612\n",
            "{'clf__C': 10, 'clf__penalty': 'l2', 'clf__solver': 'lbfgs'} 8.041561269760132 0.8944799999999999\n",
            "{'clf__C': 10, 'clf__penalty': 'l2', 'clf__solver': 'newton-cg'} 8.83703408241272 0.8945599999999999\n",
            "{'clf__C': 10, 'clf__penalty': 'l2', 'clf__solver': 'sag'} 6.88305287361145 0.8945599999999999\n",
            "{'clf__C': 10, 'clf__penalty': 'l2', 'clf__solver': 'saga'} 8.862261962890624 0.89452\n",
            "{'clf__C': 10, 'clf__penalty': 'none', 'clf__solver': 'lbfgs'} 7.233242607116699 0.8788\n",
            "{'clf__C': 10, 'clf__penalty': 'none', 'clf__solver': 'newton-cg'} 11.721188020706176 0.87748\n",
            "{'clf__C': 10, 'clf__penalty': 'none', 'clf__solver': 'sag'} 11.286521673202515 0.88444\n",
            "{'clf__C': 10, 'clf__penalty': 'none', 'clf__solver': 'saga'} 11.740050411224365 0.8868\n"
          ],
          "name": "stdout"
        }
      ]
    },
    {
      "cell_type": "code",
      "metadata": {
        "id": "Yf4RrmKh84zS",
        "colab_type": "code",
        "outputId": "f7cbaf4e-6784-4df8-d8b8-b754b265bbc7",
        "colab": {
          "base_uri": "https://localhost:8080/",
          "height": 139
        }
      },
      "source": [
        "# Grid search of non continuous parameters\n",
        "# Only sensible combinations\n",
        "# Group 2: solver=liblinear, penalty = l2,l1, dual = False\n",
        "\n",
        "# Build pipeline\n",
        "LR2_clf = Pipeline([\n",
        "    ('vect', CountVectorizer()),\n",
        "    ('tfidf', TfidfTransformer()),\n",
        "    ('clf', LogisticRegression(solver='liblinear', dual=False)),\n",
        "])\n",
        "# Params for grid search\n",
        "params = {'clf__penalty': ('l2','l1'),\n",
        "          'clf__C': (0.001, 0.1, 1, 5, 10, 15)}\n",
        "\n",
        "# njobs=1 here to stop parallel processing - causes memory leaks for this solver\n",
        "# https://github.com/ageron/handson-ml/issues/315 \n",
        "LR2_gs_clf = GridSearchCV(LR2_clf, params, n_jobs=1, return_train_score=True)\n",
        "LR2_gs_clf.fit(imdbTrain.data, imdbTrain.target)\n",
        "\n",
        "for param_name in sorted(params.keys()):\n",
        "  print(\"%s : %r\" % (param_name, LR2_gs_clf.best_params_[param_name]))\n",
        "print('Train time for best params:', LR2_gs_clf.cv_results_['mean_fit_time'][LR2_gs_clf.best_index_])\n",
        "print('Train acc for best params:', LR2_gs_clf.cv_results_['mean_train_score'][LR2_gs_clf.best_index_])\n",
        "print('CV acc for best params:', LR2_gs_clf.best_score_)\n",
        "\n",
        "# Check how the best performs:\n",
        "LR2_best_clf = Pipeline([\n",
        "                         ('vect', CountVectorizer()),\n",
        "                         ('tfidf', TfidfTransformer()),\n",
        "                         ('clf', LogisticRegression(penalty=LR2_gs_clf.best_params_['clf__penalty'],\n",
        "                                           solver='liblinear',\n",
        "                                           dual=False,\n",
        "                                           C=LR2_gs_clf.best_params_['clf__C']))\n",
        "])\n",
        "\n",
        "start = time.time()\n",
        "LR2_best_clf.fit(imdbTrain.data, imdbTrain.target)\n",
        "print('Train time:', time.time()-start)\n",
        "# Train acc\n",
        "trainPreds = LR2_best_clf.predict(imdbTrain.data)\n",
        "print('Train acc:', accuracy_score(trainPreds, imdbTrain.target))"
      ],
      "execution_count": 0,
      "outputs": [
        {
          "output_type": "stream",
          "text": [
            "clf__C : 10\n",
            "clf__penalty : 'l2'\n",
            "Train time for best params: 5.303345966339111\n",
            "Train acc for best params: 0.9895900000000001\n",
            "CV acc for best params: 0.8945599999999999\n",
            "Train time: 6.503049373626709\n",
            "Train acc: 0.98764\n"
          ],
          "name": "stdout"
        }
      ]
    },
    {
      "cell_type": "code",
      "metadata": {
        "colab_type": "code",
        "outputId": "4a157373-1ed9-4dba-91e0-8b19cccd6dfb",
        "id": "FdCYtVAoGVmZ",
        "colab": {
          "base_uri": "https://localhost:8080/",
          "height": 121
        }
      },
      "source": [
        "# Grid search of non continuous parameters\n",
        "# Only sensible combinations\n",
        "# Group 3: solver=liblinear, penalty = l2, dual = True \n",
        "\n",
        "# Build pipeline\n",
        "LR3_clf = Pipeline([\n",
        "    ('vect', CountVectorizer()),\n",
        "    ('tfidf', TfidfTransformer()),\n",
        "    ('clf', LogisticRegression(solver='liblinear', dual=True, penalty='l2')),\n",
        "])\n",
        "# Params for grid search\n",
        "params = {'clf__C': (0.001, 0.1, 1, 5, 10, 15)}\n",
        "\n",
        "LR3_gs_clf = GridSearchCV(LR3_clf, params, n_jobs=-1, return_train_score=True)\n",
        "LR3_gs_clf.fit(imdbTrain.data, imdbTrain.target)\n",
        "\n",
        "for param_name in sorted(params.keys()):\n",
        "  print(\"%s : %r\" % (param_name, LR3_gs_clf.best_params_[param_name]))\n",
        "print('Train time for best params:', LR3_gs_clf.cv_results_['mean_fit_time'][LR3_gs_clf.best_index_])\n",
        "print('Train acc for best params:', LR3_gs_clf.cv_results_['mean_train_score'][LR3_gs_clf.best_index_])\n",
        "print('CV acc for best params:', LR3_gs_clf.best_score_)\n",
        "\n",
        "# Check how the best performs:\n",
        "LR3_best_clf = Pipeline([\n",
        "                         ('vect', CountVectorizer()),\n",
        "                         ('tfidf', TfidfTransformer()),\n",
        "                         ('clf', LogisticRegression(penalty='l2',\n",
        "                                           solver='liblinear',\n",
        "                                           dual=True,\n",
        "                                           C=LR3_gs_clf.best_params_['clf__C']))\n",
        "])\n",
        "\n",
        "start = time.time()\n",
        "LR3_best_clf.fit(imdbTrain.data, imdbTrain.target)\n",
        "print('Train time:', time.time()-start)\n",
        "# Train acc\n",
        "trainPreds = LR3_best_clf.predict(imdbTrain.data)\n",
        "print('Train acc:', accuracy_score(trainPreds, imdbTrain.target))"
      ],
      "execution_count": 0,
      "outputs": [
        {
          "output_type": "stream",
          "text": [
            "clf__C : 10\n",
            "Train time for best params: 6.603286170959473\n",
            "Train acc for best params: 0.9895900000000001\n",
            "CV acc for best params: 0.8945599999999999\n",
            "Train time: 4.774367570877075\n",
            "Train acc: 0.98764\n"
          ],
          "name": "stdout"
        }
      ]
    },
    {
      "cell_type": "code",
      "metadata": {
        "id": "XIA9OoSJIj_C",
        "colab_type": "code",
        "colab": {}
      },
      "source": [
        "# Grid search of non continuous parameters\n",
        "# Only sensible combinations\n",
        "# Group 4: solver=saga, penalty = l1\n",
        "# Took forever, ditched it\n",
        "\n",
        "# Build pipeline\n",
        "LR4_clf = Pipeline([\n",
        "    ('vect', CountVectorizer()),\n",
        "    ('tfidf', TfidfTransformer()),\n",
        "    ('clf', LogisticRegression(solver='saga', penalty='l1', max_iter=1500)),\n",
        "])\n",
        "# From first run, saga needs more iterations\n",
        "# Params for grid search\n",
        "params = {'clf__C': (0.001, 0.1, 1, 5, 10, 15)}\n",
        "\n",
        "LR4_gs_clf = GridSearchCV(LR4_clf, params, n_jobs=-1, return_train_score=True)\n",
        "LR4_gs_clf.fit(imdbTrain.data, imdbTrain.target)\n",
        "\n",
        "for param_name in sorted(params.keys()):\n",
        "  print(\"%s : %r\" % (param_name, LR4_gs_clf.best_params_[param_name]))\n",
        "print('Train time for best params:', LR4_gs_clf.cv_results_['mean_fit_time'][LR4_gs_clf.best_index_])\n",
        "print('Train acc for best params:', LR4_gs_clf.cv_results_['mean_train_score'][LR4_gs_clf.best_index_])\n",
        "print('CV acc for best params:', LR4_gs_clf.best_score_)\n",
        "\n",
        "# Check how the best performs:\n",
        "LR4_best_clf = Pipeline([\n",
        "                         ('vect', CountVectorizer()),\n",
        "                         ('tfidf', TfidfTransformer()),\n",
        "                         ('clf', LogisticRegression(penalty='l1',\n",
        "                                           solver='saga',\n",
        "                                           C=LR4_gs_clf.best_params_['clf__C']))\n",
        "])\n",
        "\n",
        "start = time.time()\n",
        "LR4_best_clf.fit(imdbTrain.data, imdbTrain.target)\n",
        "print('Train time:', time.time()-start)\n",
        "# Train acc\n",
        "trainPreds = LR4_best_clf.predict(imdbTrain.data)\n",
        "print('Train acc:', accuracy_score(trainPreds, imdbTrain.target))"
      ],
      "execution_count": 0,
      "outputs": []
    },
    {
      "cell_type": "code",
      "metadata": {
        "id": "Y0H_QVo5HnrW",
        "colab_type": "code",
        "outputId": "053af0e0-2399-4e48-f989-8c703db46d7d",
        "colab": {
          "base_uri": "https://localhost:8080/",
          "height": 121
        }
      },
      "source": [
        "# Finer grid search\n",
        "# Decided group three was best because faster but same results as group 1\n",
        "# liblinear, C ~= 10, penalty = l2\n",
        "\n",
        "# Build pipeline\n",
        "LR3_clf = Pipeline([\n",
        "    ('vect', CountVectorizer()),\n",
        "    ('tfidf', TfidfTransformer()),\n",
        "    ('clf', LogisticRegression(solver='liblinear', dual=True, penalty='l2')),\n",
        "])\n",
        "# Params for grid search\n",
        "params = {'clf__C': (1.0, 2.5, 5.0,6.0,7.0,8.0,9.0,9.5,10,10.5,11)}\n",
        "\n",
        "LR3_gs_clf = GridSearchCV(LR3_clf, params, n_jobs=-1, return_train_score=True)\n",
        "LR3_gs_clf.fit(imdbTrain.data, imdbTrain.target)\n",
        "\n",
        "for param_name in sorted(params.keys()):\n",
        "  print(\"%s : %r\" % (param_name, LR3_gs_clf.best_params_[param_name]))\n",
        "print('Train time for best params:', LR3_gs_clf.cv_results_['mean_fit_time'][LR3_gs_clf.best_index_])\n",
        "print('Train acc for best params:', LR3_gs_clf.cv_results_['mean_train_score'][LR3_gs_clf.best_index_])\n",
        "print('CV acc for best params:', LR3_gs_clf.best_score_)\n",
        "\n",
        "# Check how the best performs:\n",
        "LR3_best_clf = Pipeline([\n",
        "                         ('vect', CountVectorizer()),\n",
        "                         ('tfidf', TfidfTransformer()),\n",
        "                         ('clf', LogisticRegression(penalty='l2',\n",
        "                                           solver='liblinear',\n",
        "                                           dual=True,\n",
        "                                           C=LR3_gs_clf.best_params_['clf__C']))\n",
        "])\n",
        "\n",
        "start = time.time()\n",
        "LR3_best_clf.fit(imdbTrain.data, imdbTrain.target)\n",
        "print('Train time:', time.time()-start)\n",
        "# Train acc\n",
        "trainPreds = LR3_best_clf.predict(imdbTrain.data)\n",
        "print('Train acc:', accuracy_score(trainPreds, imdbTrain.target))"
      ],
      "execution_count": 0,
      "outputs": [
        {
          "output_type": "stream",
          "text": [
            "clf__C : 8.0\n",
            "Train time for best params: 6.687569856643677\n",
            "Train acc for best params: 0.9857700000000001\n",
            "CV acc for best params: 0.89496\n",
            "Train time: 4.922297477722168\n",
            "Train acc: 0.98364\n"
          ],
          "name": "stdout"
        }
      ]
    },
    {
      "cell_type": "code",
      "metadata": {
        "id": "9zu8DDWMgYYj",
        "colab_type": "code",
        "outputId": "77443e38-5104-4593-fd12-5448bce98e9b",
        "colab": {
          "base_uri": "https://localhost:8080/",
          "height": 35
        }
      },
      "source": [
        "# on the test set\n",
        "LR_imdb_best = Pipeline([\n",
        "                         ('vect', CountVectorizer()),\n",
        "                         ('tfidf', TfidfTransformer()),\n",
        "                         ('clf', LogisticRegression(penalty='l2',\n",
        "                                           solver='liblinear',\n",
        "                                           dual=True,\n",
        "                                           C=8.0))\n",
        "])\n",
        "LR_imdb_best.fit(imdbTrain.data, imdbTrain.target)\n",
        "LRimdbBestPreds = LR_imdb_best.predict(imdbTest.data)\n",
        "print(\"LR Imdb accuracy: \", accuracy_score(imdbTest.target, LRimdbBestPreds))\n"
      ],
      "execution_count": 0,
      "outputs": [
        {
          "output_type": "stream",
          "text": [
            "LR Imdb accuracy:  0.88224\n"
          ],
          "name": "stdout"
        }
      ]
    },
    {
      "cell_type": "code",
      "metadata": {
        "id": "80-CRlR8uQJB",
        "colab_type": "code",
        "outputId": "ab003ac1-e41d-4a6a-ffc9-2acdea4b8894",
        "colab": {
          "base_uri": "https://localhost:8080/",
          "height": 470
        }
      },
      "source": [
        "# Looking at CV results mean acc for all C\n",
        "# Made a plot to show why its not worth tuning C anymore.\n",
        "%matplotlib inline \n",
        "cs = []\n",
        "cvAccs = []\n",
        "LR_imdb_cplot_clf = Pipeline([\n",
        "                              ('vect', CountVectorizer()),\n",
        "                              ('tfidf', TfidfTransformer()),\n",
        "                              ('clf', LogisticRegression(penalty='l2', solver='liblinear', dual=True))\n",
        "])\n",
        "params = {'clf__C': (1.0, 2.5, 5.0,6.0,7.0,8.0,9.0,9.5,10,10.5,11)}\n",
        "LR_imdb_cplot_gs = GridSearchCV(LR_imdb_cplot_clf, params, n_jobs=1) \n",
        "LR_imdb_cplot_gs.fit(imdbTrain.data, imdbTrain.target)\n",
        "for p, r in zip(LR_imdb_cplot_gs.cv_results_['params'], LR_imdb_cplot_gs.cv_results_['mean_test_score']):\n",
        "    print(p,r)\n",
        "    cs.append(p['clf__C'])\n",
        "    cvAccs.append(r)\n",
        "fig = plt.figure()\n",
        "plt.plot(cs, cvAccs, 'b.')\n",
        "plt.xlabel('Inverse Regularization Parameter')\n",
        "plt.ylabel('Cross validated accuracy')\n",
        "plt.savefig('imdbCTunePlot', dpi=400)"
      ],
      "execution_count": 0,
      "outputs": [
        {
          "output_type": "stream",
          "text": [
            "{'clf__C': 1.0} 0.88832\n",
            "{'clf__C': 2.5} 0.8938\n",
            "{'clf__C': 5.0} 0.8943199999999999\n",
            "{'clf__C': 6.0} 0.8946\n",
            "{'clf__C': 7.0} 0.8948\n",
            "{'clf__C': 8.0} 0.89496\n",
            "{'clf__C': 9.0} 0.8947999999999998\n",
            "{'clf__C': 9.5} 0.8946799999999999\n",
            "{'clf__C': 10} 0.8945599999999999\n",
            "{'clf__C': 10.5} 0.89444\n",
            "{'clf__C': 11} 0.8943199999999999\n"
          ],
          "name": "stdout"
        },
        {
          "output_type": "display_data",
          "data": {
            "image/png": "[encoded data removed]",
            "text/plain": [
              "<Figure size 432x288 with 1 Axes>"
            ]
          },
          "metadata": {
            "tags": []
          }
        }
      ]
    },
    {
      "cell_type": "markdown",
      "metadata": {
        "id": "npKJKQxFZWfw",
        "colab_type": "text"
      },
      "source": [
        "# SVM on Imdb"
      ]
    },
    {
      "cell_type": "code",
      "metadata": {
        "id": "UNN5OaScZaWH",
        "colab_type": "code",
        "outputId": "efc7956c-265a-4036-fc23-3883d45ff273",
        "colab": {
          "base_uri": "https://localhost:8080/",
          "height": 139
        }
      },
      "source": [
        "# Default parameters\n",
        "# SKLearn default logistic regression\n",
        "# Penalty: l2\n",
        "# loss: squared hinge\n",
        "# Inverse reg strength (C): 1.0\n",
        "# Dual: True\n",
        "\n",
        "SVC_imdb_default_clf = Pipeline([\n",
        "                           ('vect', CountVectorizer()),\n",
        "                           ('tfidf', TfidfTransformer()),\n",
        "                           ('clf', LinearSVC()),\n",
        "])\n",
        "\n",
        "SVC_imdb_default_results = cross_validate(SVC_imdb_default_clf, twentyTrain.data, twentyTrain.target, return_train_score=True, cv=5, n_jobs=-1, verbose=1)\n",
        "print('CV accuracy: ', np.mean(SVC_imdb_default_results['test_score']))\n",
        "print('Mean fit time: ', np.mean(SVC_imdb_default_results['fit_time']))\n",
        "print('Train acc: ', np.mean(SVC_imdb_default_results['train_score']))\n",
        "\n",
        "start = time.time()\n",
        "SVC_imdb_default_clf.fit(imdbTrain.data, imdbTrain.target)\n",
        "print('Train time:', time.time() - start)\n",
        "# Training accuracy\n",
        "trainPredictions = SVC_imdb_default_clf.predict(imdbTrain.data)\n",
        "print('Train accuracy: ', accuracy_score(imdbTrain.target, trainPredictions))"
      ],
      "execution_count": 0,
      "outputs": [
        {
          "output_type": "stream",
          "text": [
            "[Parallel(n_jobs=-1)]: Using backend LokyBackend with 2 concurrent workers.\n",
            "[Parallel(n_jobs=-1)]: Done   5 out of   5 | elapsed:   17.2s finished\n"
          ],
          "name": "stderr"
        },
        {
          "output_type": "stream",
          "text": [
            "CV accuracy:  0.7610048318918143\n",
            "Mean fit time:  3.7774492740631103\n",
            "Train acc:  0.973462081835768\n",
            "Train time: 3.9543659687042236\n",
            "Train accuracy:  0.98996\n"
          ],
          "name": "stdout"
        }
      ]
    },
    {
      "cell_type": "code",
      "metadata": {
        "id": "fyy6F82Z4s9V",
        "colab_type": "code",
        "outputId": "babc12d2-5a01-4923-cc24-671a03cf4962",
        "colab": {
          "base_uri": "https://localhost:8080/",
          "height": 139
        }
      },
      "source": [
        "# Grid search SVC on Imdb\n",
        "# dual = False, loss=squared_hinge (loss=hinge does not work with dual=False)\n",
        "\n",
        "# Build pipeline\n",
        "SVC_clf = Pipeline([\n",
        "    ('vect', CountVectorizer()),\n",
        "    ('tfidf', TfidfTransformer()),\n",
        "    ('clf', LinearSVC(dual=False, loss='squared_hinge')),\n",
        "])\n",
        "# 'clf__penalty': ('l2', 'l1'),\n",
        "# Params for main grid search\n",
        "params = {'clf__penalty': ('l2','l1'),\n",
        "          'clf__C': (0.01, 0.1, 0.5, 1.0, 2, 5, 10, 100)}\n",
        "\n",
        "SVC_gs_clf = GridSearchCV(SVC_clf, params, n_jobs=-1, return_train_score=True)\n",
        "SVC_gs_clf.fit(imdbTrain.data, imdbTrain.target)\n",
        "# Figuring out what these params are\n",
        "# print(SVC_gs_clf.cv_results_)\n",
        "# print(SVC_gs_clf.best_score_)\n",
        "# print(SVC_gs_clf.best_params_)\n",
        "# print(SVC_gs_clf.best_index_)\n",
        "# print(SVC_gs_clf.cv_results_['mean_test_score'][SVC_gs_clf.best_index_])\n",
        "\n",
        "for param_name in sorted(params.keys()):\n",
        "  print(\"%s : %r\" % (param_name, SVC_gs_clf.best_params_[param_name]))\n",
        "print('Train time for best params:', SVC_gs_clf.cv_results_['mean_fit_time'][SVC_gs_clf.best_index_])\n",
        "print('Train acc for best params:', SVC_gs_clf.cv_results_['mean_train_score'][SVC_gs_clf.best_index_])\n",
        "print('CV acc for best params:', SVC_gs_clf.best_score_)\n",
        "\n",
        "# Check how the best performs:\n",
        "SVC_best_clf = Pipeline([\n",
        "                         ('vect', CountVectorizer()),\n",
        "                         ('tfidf', TfidfTransformer()),\n",
        "                         ('clf', LinearSVC(penalty=SVC_gs_clf.best_params_['clf__penalty'],\n",
        "                                           loss='squared_hinge',\n",
        "                                           dual=False,\n",
        "                                           C=SVC_gs_clf.best_params_['clf__C']))\n",
        "])\n",
        "\n",
        "start = time.time()\n",
        "SVC_best_clf.fit(imdbTrain.data, imdbTrain.target)\n",
        "print('Train time:', time.time()-start)\n",
        "# Train acc\n",
        "trainPreds = SVC_best_clf.predict(imdbTrain.data)\n",
        "print('Train acc:', accuracy_score(trainPreds, imdbTrain.target))"
      ],
      "execution_count": 0,
      "outputs": [
        {
          "output_type": "stream",
          "text": [
            "clf__C : 0.5\n",
            "clf__penalty : 'l2'\n",
            "Train time for best params: 6.828944826126099\n",
            "Train acc for best params: 0.98001\n",
            "CV acc for best params: 0.8950799999999999\n",
            "Train time: 5.137102127075195\n",
            "Train acc: 0.97808\n"
          ],
          "name": "stdout"
        }
      ]
    },
    {
      "cell_type": "code",
      "metadata": {
        "id": "PFMLiz3XaTmz",
        "colab_type": "code",
        "outputId": "26dede7c-4540-490d-b147-e20d399054da",
        "colab": {
          "base_uri": "https://localhost:8080/",
          "height": 139
        }
      },
      "source": [
        "# Grid search SVC on Imdb\n",
        "# dual = True, penalty=l2\n",
        "\n",
        "# Build pipeline\n",
        "SVC_clf = Pipeline([\n",
        "    ('vect', CountVectorizer()),\n",
        "    ('tfidf', TfidfTransformer()),\n",
        "    ('clf', LinearSVC(dual=True, penalty='l2'))\n",
        "])\n",
        "# Params for main grid search\n",
        "params = {'clf__loss': ('hinge','squared_hinge'),\n",
        "          'clf__C': (0.01, 0.1, 0.5, 1.0, 2.0, 5.0, 10, 100)}\n",
        "\n",
        "SVC_gs_clf = GridSearchCV(SVC_clf, params, n_jobs=-1, return_train_score=True)\n",
        "SVC_gs_clf.fit(imdbTrain.data, imdbTrain.target)\n",
        "for param_name in sorted(params.keys()):\n",
        "  print(\"%s : %r\" % (param_name, SVC_gs_clf.best_params_[param_name]))\n",
        "print('Train time for best params:', SVC_gs_clf.cv_results_['mean_fit_time'][SVC_gs_clf.best_index_])\n",
        "print('Train acc for best params:', SVC_gs_clf.cv_results_['mean_train_score'][SVC_gs_clf.best_index_])\n",
        "print('CV acc for best params:', SVC_gs_clf.best_score_)\n",
        "\n",
        "# Check how the best performs:\n",
        "SVC_best_clf = Pipeline([\n",
        "                         ('vect', CountVectorizer()),\n",
        "                         ('tfidf', TfidfTransformer()),\n",
        "                         ('clf', LinearSVC(penalty='l2',\n",
        "                                           loss=SVC_gs_clf.best_params_['clf__loss'],\n",
        "                                           dual=True,\n",
        "                                           C=SVC_gs_clf.best_params_['clf__C']))\n",
        "])\n",
        "\n",
        "start = time.time()\n",
        "SVC_best_clf.fit(imdbTrain.data, imdbTrain.target)\n",
        "print('Train time:', time.time()-start)\n",
        "# Train acc\n",
        "trainPreds = SVC_best_clf.predict(imdbTrain.data)\n",
        "print('Train acc:', accuracy_score(trainPreds, imdbTrain.target))"
      ],
      "execution_count": 0,
      "outputs": [
        {
          "output_type": "stream",
          "text": [
            "clf__C : 0.5\n",
            "clf__loss : 'squared_hinge'\n",
            "Train time for best params: 5.540150880813599\n",
            "Train acc for best params: 0.98001\n",
            "CV acc for best params: 0.8950799999999999\n",
            "Train time: 3.9649925231933594\n",
            "Train acc: 0.97808\n"
          ],
          "name": "stdout"
        }
      ]
    },
    {
      "cell_type": "code",
      "metadata": {
        "id": "BAyFIfKT8QJ0",
        "colab_type": "code",
        "outputId": "6b4f8298-7e94-4c2e-cc84-c1a1c718cc3e",
        "colab": {
          "base_uri": "https://localhost:8080/",
          "height": 139
        }
      },
      "source": [
        "# Fine search for inverse reg param with best params otherwise\n",
        "# penalty=l2, dual=true since results l2 always on top, and results don't change with dual, only train time\n",
        "# Build pipeline\n",
        "SVC_clf = Pipeline([\n",
        "    ('vect', CountVectorizer()),\n",
        "    ('tfidf', TfidfTransformer()),\n",
        "    ('clf', LinearSVC(dual=True, penalty='l2'))\n",
        "])\n",
        "# Params for main grid search\n",
        "params = {'clf__loss': ('hinge','squared_hinge'),\n",
        "          'clf__C': (0.2, 0.3, 0.35, 0.4, 0.45, 0.5, 0.55, 0.6, 0.7, 0.8)}\n",
        "\n",
        "SVC_gs_clf = GridSearchCV(SVC_clf, params, n_jobs=-1, return_train_score=True)\n",
        "SVC_gs_clf.fit(imdbTrain.data, imdbTrain.target)\n",
        "for param_name in sorted(params.keys()):\n",
        "  print(\"%s : %r\" % (param_name, SVC_gs_clf.best_params_[param_name]))\n",
        "print('Train time for best params:', SVC_gs_clf.cv_results_['mean_fit_time'][SVC_gs_clf.best_index_])\n",
        "print('Train acc for best params:', SVC_gs_clf.cv_results_['mean_train_score'][SVC_gs_clf.best_index_])\n",
        "print('CV acc for best params:', SVC_gs_clf.best_score_)\n",
        "\n",
        "# Check how the best performs:\n",
        "SVC_best_clf = Pipeline([\n",
        "                         ('vect', CountVectorizer()),\n",
        "                         ('tfidf', TfidfTransformer()),\n",
        "                         ('clf', LinearSVC(penalty='l2',\n",
        "                                           loss=SVC_gs_clf.best_params_['clf__loss'],\n",
        "                                           dual=True,\n",
        "                                           C=SVC_gs_clf.best_params_['clf__C']))\n",
        "])\n",
        "\n",
        "start = time.time()\n",
        "SVC_best_clf.fit(imdbTrain.data, imdbTrain.target)\n",
        "print('Train time:', time.time()-start)\n",
        "# Train acc\n",
        "trainPreds = SVC_best_clf.predict(imdbTrain.data)\n",
        "print('Train acc:', accuracy_score(trainPreds, imdbTrain.target))"
      ],
      "execution_count": 0,
      "outputs": [
        {
          "output_type": "stream",
          "text": [
            "clf__C : 0.55\n",
            "clf__loss : 'squared_hinge'\n",
            "Train time for best params: 5.555875682830811\n",
            "Train acc for best params: 0.9821100000000001\n",
            "CV acc for best params: 0.89544\n",
            "Train time: 3.727783203125\n",
            "Train acc: 0.97996\n"
          ],
          "name": "stdout"
        }
      ]
    },
    {
      "cell_type": "code",
      "metadata": {
        "id": "rR2SBQsk8kLl",
        "colab_type": "code",
        "outputId": "1883fa52-bbba-4daa-de8f-60005afbfa93",
        "colab": {
          "base_uri": "https://localhost:8080/",
          "height": 453
        }
      },
      "source": [
        "# Looking at CV results mean acc for all C\n",
        "# Made a plot to show why its not worth tuning C anymore.\n",
        "%matplotlib inline \n",
        "cs = []\n",
        "cvAccs = []\n",
        "for p, r in zip(SVC_gs_clf.cv_results_['params'], SVC_gs_clf.cv_results_['mean_test_score']):\n",
        "  if p['clf__loss'] != 'hinge':\n",
        "    print(p,r)\n",
        "    cs.append(p['clf__C'])\n",
        "    cvAccs.append(r)\n",
        "fig = plt.figure()\n",
        "plt.plot(cs, cvAccs, 'b.')\n",
        "plt.xlabel('Inverse Regularization Parameter')\n",
        "plt.ylabel('Cross validated accuracy')\n",
        "plt.savefig('imdbCTunePlot', dpi=400)"
      ],
      "execution_count": 0,
      "outputs": [
        {
          "output_type": "stream",
          "text": [
            "{'clf__C': 0.2, 'clf__loss': 'squared_hinge'} 0.89448\n",
            "{'clf__C': 0.3, 'clf__loss': 'squared_hinge'} 0.8952\n",
            "{'clf__C': 0.35, 'clf__loss': 'squared_hinge'} 0.89512\n",
            "{'clf__C': 0.4, 'clf__loss': 'squared_hinge'} 0.8950400000000001\n",
            "{'clf__C': 0.45, 'clf__loss': 'squared_hinge'} 0.89528\n",
            "{'clf__C': 0.5, 'clf__loss': 'squared_hinge'} 0.8950799999999999\n",
            "{'clf__C': 0.55, 'clf__loss': 'squared_hinge'} 0.89544\n",
            "{'clf__C': 0.6, 'clf__loss': 'squared_hinge'} 0.8952\n",
            "{'clf__C': 0.7, 'clf__loss': 'squared_hinge'} 0.89416\n",
            "{'clf__C': 0.8, 'clf__loss': 'squared_hinge'} 0.8935600000000001\n"
          ],
          "name": "stdout"
        },
        {
          "output_type": "display_data",
          "data": {
            "image/png": "[encoded data removed]",
            "text/plain": [
              "<Figure size 432x288 with 1 Axes>"
            ]
          },
          "metadata": {
            "tags": []
          }
        }
      ]
    },
    {
      "cell_type": "code",
      "metadata": {
        "id": "ntQ5NnwY5uU7",
        "colab_type": "code",
        "outputId": "0d7f1dbe-b675-47d6-e8a3-0b8ef61d7dd9",
        "colab": {
          "base_uri": "https://localhost:8080/",
          "height": 173
        }
      },
      "source": [
        "# Tuning Count Vec and tfidf, imdb\n",
        "SVC_imdb_feat_tune = Pipeline([\n",
        "                        ('vect', CountVectorizer()),\n",
        "                        ('tfidf', TfidfTransformer()),\n",
        "                        ('clf', LinearSVC(penalty='l2', dual=True, loss='squared_hinge'))                            \n",
        "])\n",
        "params = {'vect__ngram_range': ((1,1), (1,2)),\n",
        "         'vect__max_df': (0.2, 0.4, 0.6, 0.8, 1.0),\n",
        "          'tfidf__sublinear_tf': (True, False),\n",
        "         'clf__C': (0.01, 0.1, 1.0, 10, 20)}\n",
        "\n",
        "SVC_imdb_feat_tune_gs = GridSearchCV(SVC_imdb_feat_tune, params, return_train_score=True)\n",
        "SVC_imdb_feat_tune_gs.fit(imdbTrain.data, imdbTrain.target) \n",
        "\n",
        "for param_name in sorted(params.keys()):\n",
        "  print(\"%s : %r\" % (param_name, SVC_imdb_feat_tune_gs.best_params_[param_name]))\n",
        "\n",
        "print('Train time for best params:', SVC_imdb_feat_tune_gs.cv_results_['mean_fit_time'][SVC_imdb_feat_tune_gs.best_index_])\n",
        "print('Train acc for best params:', SVC_imdb_feat_tune_gs.cv_results_['mean_train_score'][SVC_imdb_feat_tune_gs.best_index_])\n",
        "print('CV acc for best params:', SVC_imdb_feat_tune_gs.best_score_)\n",
        "\n",
        "# Check how the best performs:\n",
        "SVC_imdb_feat_tune_best = Pipeline([\n",
        "                         ('vect', CountVectorizer(ngram_range=SVC_imdb_feat_tune_gs.best_params_['vect__ngram_range'],\n",
        "                                                  max_df=SVC_imdb_feat_tune_gs.best_params_['vect__max_df'])),\n",
        "                         ('tfidf', TfidfTransformer(sublinear_tf=SVC_imdb_feat_tune_gs.best_params_['tfidf__sublinear_tf'])),\n",
        "                         ('clf', LinearSVC(penalty='l2',\n",
        "                                           loss='squared_hinge',\n",
        "                                           dual=True,\n",
        "                                           C=SVC_imdb_feat_tune_gs.best_params_['clf__C']))\n",
        "])\n",
        "\n",
        "start = time.time()\n",
        "SVC_imdb_feat_tune_best.fit(imdbTrain.data, imdbTrain.target)\n",
        "print('Train time:', time.time()-start)\n",
        "# Train acc\n",
        "trainPreds = SVC_imdb_feat_tune_best.predict(imdbTrain.data)\n",
        "print('Train acc:', accuracy_score(trainPreds, imdbTrain.target))"
      ],
      "execution_count": 0,
      "outputs": [
        {
          "output_type": "stream",
          "text": [
            "clf__C : 1.0\n",
            "tfidf__sublinear_tf : True\n",
            "vect__max_df : 0.2\n",
            "vect__ngram_range : (1, 2)\n",
            "Train time for best params: 14.008985948562621\n",
            "Train acc for best params: 0.9999600000000001\n",
            "CV acc for best params: 0.9110799999999999\n",
            "Train time: 17.62760066986084\n",
            "Train acc: 0.99996\n"
          ],
          "name": "stdout"
        }
      ]
    },
    {
      "cell_type": "code",
      "metadata": {
        "id": "kjhLb0KV_Ixv",
        "colab_type": "code",
        "outputId": "c80c90ee-9d67-46c1-d08e-57cfe72b262c",
        "colab": {
          "base_uri": "https://localhost:8080/",
          "height": 35
        }
      },
      "source": [
        "# Using the best model with feature selection on the test set\n",
        "SVC_imdb_best = Pipeline([\n",
        "                         ('vect', CountVectorizer(max_df=0.2, ngram_range=(1,2))),\n",
        "                         ('tfidf', TfidfTransformer(sublinear_tf=True)),\n",
        "                         ('clf', LinearSVC(penalty='l2', dual=True, loss='squared_hinge', C=1.0)) \n",
        "])\n",
        "SVC_imdb_best.fit(imdbTrain.data, imdbTrain.target)\n",
        "imdbTestPreds = SVC_imdb_best.predict(imdbTest.data)\n",
        "print('Test acc:', accuracy_score(imdbTestPreds, imdbTest.target))"
      ],
      "execution_count": 0,
      "outputs": [
        {
          "output_type": "stream",
          "text": [
            "Test acc: 0.90664\n"
          ],
          "name": "stdout"
        }
      ]
    },
    {
      "cell_type": "markdown",
      "metadata": {
        "colab_type": "text",
        "id": "X9_n308ByK0P"
      },
      "source": [
        "# Studying new feature design, imdb"
      ]
    },
    {
      "cell_type": "code",
      "metadata": {
        "colab_type": "code",
        "outputId": "c6715201-14f6-43fc-b214-98e692d36223",
        "id": "qd39tFzeyK0S",
        "colab": {
          "base_uri": "https://localhost:8080/",
          "height": 52
        }
      },
      "source": [
        "# Performing first two steps of pipeline separately to be able to study them.\n",
        "# First, look at new feature design\n",
        "CountVec = CountVectorizer(max_df=0.2, ngram_range=(1,2))\n",
        "imdbTrain_count = CountVec.fit_transform(imdbTrain.data)\n",
        "tfidfVec = TfidfTransformer(sublinear_tf=True).fit(imdbTrain_count)\n",
        "imdbTrain_tfidf = tfidfVec.transform(imdbTrain_count)\n",
        "print('New design shape:', imdbTrain_tfidf.shape)\n",
        "# Now, look at default\n",
        "CountVec_def = CountVectorizer()\n",
        "imdbTrain_count_def = CountVec_def.fit_transform(imdbTrain.data)\n",
        "tfidfVec_def = TfidfTransformer().fit(imdbTrain_count_def)\n",
        "imdbTrain_tfidf_def = tfidfVec_def.transform(imdbTrain_count_def)\n",
        "print('Default shape:', imdbTrain_tfidf_def.shape)"
      ],
      "execution_count": 0,
      "outputs": [
        {
          "output_type": "stream",
          "text": [
            "New design shape: (25000, 1513704)\n",
            "Default shape: (25000, 74849)\n"
          ],
          "name": "stdout"
        }
      ]
    },
    {
      "cell_type": "markdown",
      "metadata": {
        "id": "RfMhEYLJAIrN",
        "colab_type": "text"
      },
      "source": [
        "# Load 20 Newsgroups"
      ]
    },
    {
      "cell_type": "code",
      "metadata": {
        "id": "-Q5k-mIwLFqe",
        "colab_type": "code",
        "outputId": "31eb5a6f-49f0-4ff6-f6e6-249097178e92",
        "colab": {
          "base_uri": "https://localhost:8080/",
          "height": 52
        }
      },
      "source": [
        "# Load 20 newsgroups\n",
        "twentyTrain = fetch_20newsgroups(subset='train', remove=(['headers', 'footers', 'quotes']))\n",
        "twentyTest = fetch_20newsgroups(subset='test', remove=(['headers', 'footers', 'quotes']))"
      ],
      "execution_count": 0,
      "outputs": [
        {
          "output_type": "stream",
          "text": [
            "Downloading 20news dataset. This may take a few minutes.\n",
            "Downloading dataset from https://ndownloader.figshare.com/files/5975967 (14 MB)\n"
          ],
          "name": "stderr"
        }
      ]
    },
    {
      "cell_type": "code",
      "metadata": {
        "id": "zSOxK6nJqNQp",
        "colab_type": "code",
        "outputId": "cfb32465-9ba1-4c77-97e7-f6c62c21b8a7",
        "colab": {
          "base_uri": "https://localhost:8080/",
          "height": 35
        }
      },
      "source": [
        "# Create validation set for quick tests before running CV or grid search strategies by splitting the train set\n",
        "# Control random state so for all group members split will be the same - good for comparing accuracies\n",
        "x20Train, x20Val, y20Train, y20Val = train_test_split(twentyTrain.data, twentyTrain.target, test_size=0.2, random_state=1)\n",
        "print(y20Train.shape, y20Val.shape)"
      ],
      "execution_count": 0,
      "outputs": [
        {
          "output_type": "stream",
          "text": [
            "(9051,) (2263,)\n"
          ],
          "name": "stdout"
        }
      ]
    },
    {
      "cell_type": "markdown",
      "metadata": {
        "id": "sUWVTdZ7K_JQ",
        "colab_type": "text"
      },
      "source": [
        "# LR on 20 newsgroups"
      ]
    },
    {
      "cell_type": "code",
      "metadata": {
        "id": "b_SthbNGO1_O",
        "colab_type": "code",
        "outputId": "77f1dc1d-7aee-43e5-8272-1953c88f7b75",
        "colab": {
          "base_uri": "https://localhost:8080/",
          "height": 173
        }
      },
      "source": [
        "# Default LR parameters\n",
        "# Also increased max_iters\n",
        "\n",
        "lbfgs_default_clf = Pipeline([\n",
        "    ('vect', CountVectorizer()),\n",
        "    ('tfidf', TfidfTransformer()),\n",
        "    ('clf', LogisticRegression(max_iter=1000, verbose=True)),\n",
        "])\n",
        "\n",
        "results = cross_validate(lbfgs_default_clf, twentyTrain.data, twentyTrain.target, return_train_score=True, cv=5, n_jobs=-1, verbose=1)\n",
        "print('CV accuracy: ', np.mean(results['test_score']))\n",
        "print('Mean fit time: ', np.mean(results['fit_time']))\n",
        "print('Train acc: ', np.mean(results['train_score']))\n",
        "\n",
        "# Get train time with full dataset\n",
        "start = time.time()\n",
        "lbfgs_default_clf.fit(twentyTrain.data, twentyTrain.target)\n",
        "print('Train time:', time.time()-start)\n",
        "# Train acc\n",
        "trainPreds = lbfgs_default_clf.predict(twentyTrain.data)\n",
        "print('Train acc:', accuracy_score(trainPreds, twentyTrain.target))"
      ],
      "execution_count": 0,
      "outputs": [
        {
          "output_type": "stream",
          "text": [
            "[Parallel(n_jobs=-1)]: Using backend LokyBackend with 2 concurrent workers.\n",
            "[Parallel(n_jobs=-1)]: Done   5 out of   5 | elapsed:  2.1min finished\n"
          ],
          "name": "stderr"
        },
        {
          "output_type": "stream",
          "text": [
            "CV accuracy:  0.7248545294639129\n",
            "Mean fit time:  41.89269018173218\n",
            "Train acc:  0.910243944402449\n"
          ],
          "name": "stdout"
        },
        {
          "output_type": "stream",
          "text": [
            "[Parallel(n_jobs=1)]: Using backend SequentialBackend with 1 concurrent workers.\n",
            "[Parallel(n_jobs=1)]: Done   1 out of   1 | elapsed:   34.9s finished\n"
          ],
          "name": "stderr"
        },
        {
          "output_type": "stream",
          "text": [
            "Train time: 36.390690326690674\n",
            "Train acc: 0.907371398267633\n"
          ],
          "name": "stdout"
        }
      ]
    },
    {
      "cell_type": "code",
      "metadata": {
        "id": "s6InQQ6Mo5Mq",
        "colab_type": "code",
        "outputId": "d1f96d17-a2d9-4ce1-99c7-fd69c6287716",
        "colab": {
          "base_uri": "https://localhost:8080/",
          "height": 173
        }
      },
      "source": [
        "# Chose lbfgs solver (all solvers essentially the same on Imdb, and this one has a real multiclass classification option unlike liblinear)\n",
        "# Group 1: lbfgs, penalty = none\n",
        "# Penalty = none\n",
        "\n",
        "lbfgs_none_clf = Pipeline([\n",
        "    ('vect', CountVectorizer()),\n",
        "    ('tfidf', TfidfTransformer()),\n",
        "    ('clf', LogisticRegression(solver='lbfgs', penalty='none', max_iter=1000, verbose=True, n_jobs=-1)),\n",
        "])\n",
        "\n",
        "results = cross_validate(lbfgs_none_clf, twentyTrain.data, twentyTrain.target, return_train_score=True, cv=5, n_jobs=-1, verbose=1)\n",
        "print('CV accuracy: ', np.mean(results['test_score']))\n",
        "print('Mean fit time: ', np.mean(results['fit_time']))\n",
        "print('Train acc: ', np.mean(results['train_score']))\n",
        "\n",
        "# Get train time with full dataset\n",
        "start = time.time()\n",
        "lbfgs_none_clf.fit(twentyTrain.data, twentyTrain.target)\n",
        "print('Train time:', time.time()-start)\n",
        "# Train acc\n",
        "trainPreds = lbfgs_none_clf.predict(twentyTrain.data)\n",
        "print('Train acc:', accuracy_score(trainPreds, twentyTrain.target))"
      ],
      "execution_count": 0,
      "outputs": [
        {
          "output_type": "stream",
          "text": [
            "[Parallel(n_jobs=-1)]: Using backend LokyBackend with 2 concurrent workers.\n",
            "[Parallel(n_jobs=-1)]: Done   5 out of   5 | elapsed:  9.3min finished\n"
          ],
          "name": "stderr"
        },
        {
          "output_type": "stream",
          "text": [
            "CV accuracy:  0.722468589968247\n",
            "Mean fit time:  195.81416606903076\n",
            "Train acc:  0.974854163911254\n"
          ],
          "name": "stdout"
        },
        {
          "output_type": "stream",
          "text": [
            "[Parallel(n_jobs=-1)]: Using backend LokyBackend with 2 concurrent workers.\n",
            "[Parallel(n_jobs=-1)]: Done   1 out of   1 | elapsed:  1.8min finished\n"
          ],
          "name": "stderr"
        },
        {
          "output_type": "stream",
          "text": [
            "Train time: 108.85000467300415\n",
            "Train acc: 0.9747215838783808\n"
          ],
          "name": "stdout"
        }
      ]
    },
    {
      "cell_type": "code",
      "metadata": {
        "colab_type": "code",
        "outputId": "a63845fb-9576-450c-90c1-18e49ccf496c",
        "id": "_HzcUw1a5Wsy",
        "colab": {
          "base_uri": "https://localhost:8080/",
          "height": 245
        }
      },
      "source": [
        "# Chose lbfgs solver (all solvers essentially the same on Imdb, and this one has a real multiclass classification option unlike liblinear)\n",
        "# Group 1: lbfgs, penalty = l2\n",
        "\n",
        "lbfgs_l2_clf = Pipeline([\n",
        "    ('vect', CountVectorizer()),\n",
        "    ('tfidf', TfidfTransformer()),\n",
        "    ('clf', LogisticRegression(solver='lbfgs', penalty='l2', max_iter=1000, verbose=True, n_jobs=-1))\n",
        "])\n",
        "params = {'clf__C': (10,11,12,13,14,15,16,17,18,19,20,25,30,50,100)}\n",
        "\n",
        "lbfgs_l2_gs_clf = GridSearchCV(lbfgs_l2_clf, params, n_jobs=-1, return_train_score=True)\n",
        "lbfgs_l2_gs_clf.fit(twentyTrain.data, twentyTrain.target)\n",
        "\n",
        "print(\"C: \", lbfgs_l2_gs_clf.best_params_['clf__C'])\n",
        "print('Train time for best params:', lbfgs_l2_gs_clf.cv_results_['mean_fit_time'][lbfgs_l2_gs_clf.best_index_])\n",
        "print('Train acc for best params:', lbfgs_l2_gs_clf.cv_results_['mean_train_score'][lbfgs_l2_gs_clf.best_index_])\n",
        "print('CV acc for best params:', lbfgs_l2_gs_clf.best_score_)\n",
        "\n",
        "# Get train time with full dataset\n",
        "lbfgs_l2_best = Pipeline([\n",
        "    ('vect', CountVectorizer()),\n",
        "    ('tfidf', TfidfTransformer()),\n",
        "    ('clf', LogisticRegression(solver='lbfgs', penalty='l2', max_iter=1000, verbose=True, n_jobs=-1, C=lbfgs_l2_gs_clf.best_params_['clf__C'])),\n",
        "])\n",
        "start = time.time()\n",
        "lbfgs_l2_best.fit(twentyTrain.data, twentyTrain.target)\n",
        "print('Train time:', time.time()-start)\n",
        "# Train acc\n",
        "trainPreds = lbfgs_l2_best.predict(twentyTrain.data)\n",
        "print('Train acc:', accuracy_score(trainPreds, twentyTrain.target))"
      ],
      "execution_count": 0,
      "outputs": [
        {
          "output_type": "stream",
          "text": [
            "[Parallel(n_jobs=-1)]: Using backend LokyBackend with 2 concurrent workers.\n",
            "[Parallel(n_jobs=-1)]: Done   1 out of   1 | elapsed:  1.3min finished\n"
          ],
          "name": "stderr"
        },
        {
          "output_type": "stream",
          "text": [
            "C:  17\n",
            "Train time for best params: 108.45113377571106\n",
            "Train acc for best params: 0.9744785245761817\n",
            "CV acc for best params: 0.749691242620982\n"
          ],
          "name": "stdout"
        },
        {
          "output_type": "stream",
          "text": [
            "/usr/local/lib/python3.6/dist-packages/sklearn/linear_model/_logistic.py:1505: UserWarning: Setting penalty='none' will ignore the C and l1_ratio parameters\n",
            "  \"Setting penalty='none' will ignore the C and l1_ratio \"\n",
            "[Parallel(n_jobs=-1)]: Using backend LokyBackend with 2 concurrent workers.\n",
            "[Parallel(n_jobs=-1)]: Done   1 out of   1 | elapsed:  1.8min finished\n"
          ],
          "name": "stderr"
        },
        {
          "output_type": "stream",
          "text": [
            "Train time: 106.6109721660614\n",
            "Train acc: 0.9747215838783808\n"
          ],
          "name": "stdout"
        }
      ]
    },
    {
      "cell_type": "code",
      "metadata": {
        "id": "MfvdnL3brhlX",
        "colab_type": "code",
        "outputId": "292ef851-b8d2-4d28-ea8c-de3b62ad0a81",
        "colab": {
          "base_uri": "https://localhost:8080/",
          "height": 104
        }
      },
      "source": [
        "# Get train time with full dataset, group 1\n",
        "# Also get test accuracy\n",
        "lbfgs_l2_best = Pipeline([\n",
        "    ('vect', CountVectorizer()),\n",
        "    ('tfidf', TfidfTransformer()),\n",
        "    ('clf', LogisticRegression(solver='lbfgs', penalty='l2', max_iter=1000, verbose=True, n_jobs=-1, C=17))\n",
        "])\n",
        "start = time.time()\n",
        "lbfgs_l2_best.fit(twentyTrain.data, twentyTrain.target)\n",
        "print('Train time:', time.time()-start)\n",
        "# Train acc\n",
        "trainPreds = lbfgs_l2_best.predict(twentyTrain.data)\n",
        "print('Train acc:', accuracy_score(trainPreds, twentyTrain.target))\n",
        "\n",
        "LR20BestPreds = lbfgs_l2_best.predict(twentyTest.data)\n",
        "print('Best LR on 20 acc: ', accuracy_score(twentyTest.target, LR20BestPreds))"
      ],
      "execution_count": 0,
      "outputs": [
        {
          "output_type": "stream",
          "text": [
            "[Parallel(n_jobs=-1)]: Using backend LokyBackend with 2 concurrent workers.\n",
            "[Parallel(n_jobs=-1)]: Done   1 out of   1 | elapsed:  1.6min finished\n"
          ],
          "name": "stderr"
        },
        {
          "output_type": "stream",
          "text": [
            "Train time: 95.363520860672\n",
            "Train acc: 0.9743680395969595\n",
            "Best LR on 20 acc:  0.6826872012745618\n"
          ],
          "name": "stdout"
        }
      ]
    },
    {
      "cell_type": "code",
      "metadata": {
        "id": "guYI_nbNr3MK",
        "colab_type": "code",
        "outputId": "aac8fc92-0cb9-4a10-9b48-489b9cd87d58",
        "colab": {
          "base_uri": "https://localhost:8080/",
          "height": 236
        }
      },
      "source": [
        "# Looking at CV results mean acc for all C\n",
        "# Made a plot to show why its not worth tuning C anymore.\n",
        "%matplotlib inline \n",
        "cs = []\n",
        "cvAccs = []\n",
        "for p, r in zip(lbfgs_l2_gs_clf.cv_results_['params'], lbfgs_l2_gs_clf.cv_results_['mean_test_score']):\n",
        "    cs.append(p['clf__C'])\n",
        "    cvAccs.append(r)\n",
        "fig = plt.figure()\n",
        "plt.plot(cs, cvAccs, 'b.')\n",
        "plt.xlabel('Inverse Regularization Parameter')\n",
        "plt.xscale('log')\n",
        "plt.ylabel('Cross validated accuracy')\n",
        "plt.savefig('20CTunePlotlbfgsl2', dpi=400)"
      ],
      "execution_count": 0,
      "outputs": [
        {
          "output_type": "error",
          "ename": "NameError",
          "evalue": "ignored",
          "traceback": [
            "\u001b[0;31m---------------------------------------------------------------------------\u001b[0m",
            "\u001b[0;31mNameError\u001b[0m                                 Traceback (most recent call last)",
            "\u001b[0;32m<ipython-input-27-d2c1c5fd6061>\u001b[0m in \u001b[0;36m<module>\u001b[0;34m()\u001b[0m\n\u001b[1;32m      2\u001b[0m \u001b[0mcs\u001b[0m \u001b[0;34m=\u001b[0m \u001b[0;34m[\u001b[0m\u001b[0;34m]\u001b[0m\u001b[0;34m\u001b[0m\u001b[0;34m\u001b[0m\u001b[0m\n\u001b[1;32m      3\u001b[0m \u001b[0mcvAccs\u001b[0m \u001b[0;34m=\u001b[0m \u001b[0;34m[\u001b[0m\u001b[0;34m]\u001b[0m\u001b[0;34m\u001b[0m\u001b[0;34m\u001b[0m\u001b[0m\n\u001b[0;32m----> 4\u001b[0;31m \u001b[0;32mfor\u001b[0m \u001b[0mp\u001b[0m\u001b[0;34m,\u001b[0m \u001b[0mr\u001b[0m \u001b[0;32min\u001b[0m \u001b[0mzip\u001b[0m\u001b[0;34m(\u001b[0m\u001b[0mlbfgs_l2_gs_clf\u001b[0m\u001b[0;34m.\u001b[0m\u001b[0mcv_results_\u001b[0m\u001b[0;34m[\u001b[0m\u001b[0;34m'params'\u001b[0m\u001b[0;34m]\u001b[0m\u001b[0;34m,\u001b[0m \u001b[0mlbfgs_l2_gs_clf\u001b[0m\u001b[0;34m.\u001b[0m\u001b[0mcv_results_\u001b[0m\u001b[0;34m[\u001b[0m\u001b[0;34m'mean_test_score'\u001b[0m\u001b[0;34m]\u001b[0m\u001b[0;34m)\u001b[0m\u001b[0;34m:\u001b[0m\u001b[0;34m\u001b[0m\u001b[0;34m\u001b[0m\u001b[0m\n\u001b[0m\u001b[1;32m      5\u001b[0m     \u001b[0mcs\u001b[0m\u001b[0;34m.\u001b[0m\u001b[0mappend\u001b[0m\u001b[0;34m(\u001b[0m\u001b[0mp\u001b[0m\u001b[0;34m[\u001b[0m\u001b[0;34m'clf__C'\u001b[0m\u001b[0;34m]\u001b[0m\u001b[0;34m)\u001b[0m\u001b[0;34m\u001b[0m\u001b[0;34m\u001b[0m\u001b[0m\n\u001b[1;32m      6\u001b[0m     \u001b[0mcvAccs\u001b[0m\u001b[0;34m.\u001b[0m\u001b[0mappend\u001b[0m\u001b[0;34m(\u001b[0m\u001b[0mr\u001b[0m\u001b[0;34m)\u001b[0m\u001b[0;34m\u001b[0m\u001b[0;34m\u001b[0m\u001b[0m\n",
            "\u001b[0;31mNameError\u001b[0m: name 'lbfgs_l2_gs_clf' is not defined"
          ]
        }
      ]
    },
    {
      "cell_type": "code",
      "metadata": {
        "id": "vnfG1Aspr8dS",
        "colab_type": "code",
        "outputId": "c47b0422-8827-4ce2-ccc6-10e58074ad2a",
        "colab": {
          "base_uri": "https://localhost:8080/",
          "height": 124
        }
      },
      "source": [
        "# Wanted to see if liblinear could do better on this,\n",
        "# But it's actually training 20 classifiers (one versus rest, so seeing results not so simple)\n",
        "\n",
        "liblin_l2_True_clf = Pipeline([\n",
        "    ('vect', CountVectorizer()),\n",
        "    ('tfidf', TfidfTransformer()),\n",
        "    ('clf', LogisticRegression(solver='liblinear', penalty='l2', dual=True, max_iter=1000, verbose=True))\n",
        "])\n",
        "# params = {'clf__C': (0.1, 1.0, 10, 20)}\n",
        "params = {'clf__C': (15,19)}\n",
        "# params = {'clf__C': (3.0,5.0,6.0,7.0,8.0,8.5,9.0.9.5,10.5,11,11.5,12,13,14,15,17,19)}\n",
        "\n",
        "liblin_l2_True_gs_clf = GridSearchCV(liblin_l2_True_clf, params, return_train_score=True)\n",
        "liblin_l2_True_gs_clf.fit(twentyTrain.data, twentyTrain.target)\n",
        "\n",
        "print(\"C: \", liblin_l2_True_gs_clf.best_params_['clf__C'])\n",
        "print('Train time for best params:', liblin_l2_True_gs_clf.cv_results_['mean_fit_time'][liblin_l2_True_gs_clf.best_index_])\n",
        "print('Train acc for best params:', liblin_l2_True_gs_clf.cv_results_['mean_train_score'][liblin_l2_True_gs_clf.best_index_])\n",
        "print('CV acc for best params:', liblin_l2_True_gs_clf.best_score_)\n",
        "\n",
        "# Get train time with full dataset\n",
        "liblinear_l2_True_best = Pipeline([\n",
        "    ('vect', CountVectorizer()),\n",
        "    ('tfidf', TfidfTransformer()),\n",
        "    ('clf', LogisticRegression(solver='liblinear', penalty='l2', dual=True, max_iter=1000, verbose=True, C=liblin_l2_True_gs_clf.best_params_['clf__C'])),\n",
        "])\n",
        "start = time.time()\n",
        "liblinear_l2_True_best.fit(twentyTrain.data, twentyTrain.target)\n",
        "print('Train time:', time.time()-start)\n",
        "# Train acc\n",
        "trainPreds = liblinear_l2_True_best.predict(twentyTrain.data)\n",
        "print('Train acc:', accuracy_score(trainPreds, twentyTrain.target))"
      ],
      "execution_count": 0,
      "outputs": [
        {
          "output_type": "stream",
          "text": [
            "[LibLinear][LibLinear][LibLinear][LibLinear][LibLinear][LibLinear][LibLinear][LibLinear][LibLinear][LibLinear][LibLinear]Train time for best params: 6.879440593719482\n",
            "Train acc for best params: 0.9741470743705831\n",
            "CV acc for best params: 0.7532264901914588\n",
            "[LibLinear]Train time: 9.046155452728271\n",
            "Train acc: 0.9740144953155383\n"
          ],
          "name": "stdout"
        }
      ]
    },
    {
      "cell_type": "code",
      "metadata": {
        "id": "ttFme8qVxVL2",
        "colab_type": "code",
        "outputId": "72c93a7c-6d2b-4b9e-f94f-89dc93283342",
        "colab": {
          "base_uri": "https://localhost:8080/",
          "height": 35
        }
      },
      "source": [
        "print(liblin_l2_True_gs_clf.best_params_['clf__C'])"
      ],
      "execution_count": 0,
      "outputs": [
        {
          "output_type": "stream",
          "text": [
            "19\n"
          ],
          "name": "stdout"
        }
      ]
    },
    {
      "cell_type": "markdown",
      "metadata": {
        "id": "UHnmZwrSOrcE",
        "colab_type": "text"
      },
      "source": [
        "# SVC on 20 newsgroups"
      ]
    },
    {
      "cell_type": "code",
      "metadata": {
        "id": "HpoGRb88b659",
        "colab_type": "code",
        "outputId": "c7f2a0a6-799c-4533-836b-1f3461abff34",
        "colab": {
          "base_uri": "https://localhost:8080/",
          "height": 139
        }
      },
      "source": [
        "# SKLearn default SVC on 20 newsgroups\n",
        "# Penalty: l2\n",
        "# loss: squared hinge\n",
        "# Inverse reg strength (C): 1.0\n",
        "# Dual: True\n",
        "\n",
        "SVC_20_default_clf = Pipeline([\n",
        "                           ('vect', CountVectorizer()),\n",
        "                           ('tfidf', TfidfTransformer()),\n",
        "                           ('clf', LinearSVC()),\n",
        "])\n",
        "\n",
        "SVC_20_default_results = cross_validate(SVC_20_default_clf, twentyTrain.data, twentyTrain.target, return_train_score=True, cv=5, n_jobs=-1, verbose=1)\n",
        "print('CV accuracy: ', np.mean(SVC_20_default_results['test_score']))\n",
        "print('Mean fit time: ', np.mean(SVC_20_default_results['fit_time']))\n",
        "print('Train acc: ', np.mean(SVC_20_default_results['train_score']))\n",
        "\n",
        "start = time.time()\n",
        "SVC_20_default_clf.fit(twentyTrain.data, twentyTrain.target)\n",
        "print('Train time:', time.time() - start)\n",
        "# Training accuracy\n",
        "trainPredictions = SVC_20_default_clf.predict(twentyTrain.data)\n",
        "print('Train accuracy: ', accuracy_score(twentyTrain.target, trainPredictions))\n"
      ],
      "execution_count": 0,
      "outputs": [
        {
          "output_type": "stream",
          "text": [
            "[Parallel(n_jobs=-1)]: Using backend LokyBackend with 2 concurrent workers.\n",
            "[Parallel(n_jobs=-1)]: Done   5 out of   5 | elapsed:   17.3s finished\n"
          ],
          "name": "stderr"
        },
        {
          "output_type": "stream",
          "text": [
            "CV accuracy:  0.7610048318918143\n",
            "Mean fit time:  3.8404488563537598\n",
            "Train acc:  0.973462081835768\n",
            "Train time: 3.057391881942749\n",
            "Train accuracy:  0.9725119321194979\n"
          ],
          "name": "stdout"
        }
      ]
    },
    {
      "cell_type": "code",
      "metadata": {
        "id": "SYu42E4lFH5J",
        "colab_type": "code",
        "outputId": "27d67596-9dfd-414f-c22c-d6eecffa0655",
        "colab": {
          "base_uri": "https://localhost:8080/",
          "height": 139
        }
      },
      "source": [
        "# Group 1:\n",
        "# dual = False, loss = squared_hinge\n",
        "# Max iter a bit higher to prevent time consuming hit the end of loop criteria\n",
        "# Tune the rest\n",
        "# Build pipeline\n",
        "\n",
        "SVC_20_G1 = Pipeline([\n",
        "    ('vect', CountVectorizer()),\n",
        "    ('tfidf', TfidfTransformer()),\n",
        "    ('clf', LinearSVC(dual=False, loss='squared_hinge', max_iter=500)),\n",
        "])\n",
        "\n",
        "# Params for main grid search\n",
        "params = {'clf__penalty': ('l2','l1'),\n",
        "          'clf__C': (0.01, 0.1, 1.0, 10, 100)}\n",
        "\n",
        "SVC_20_G1_gs = GridSearchCV(SVC_20_G1, params, n_jobs=-1, return_train_score=True)\n",
        "SVC_20_G1_gs.fit(twentyTrain.data, twentyTrain.target)\n",
        "\n",
        "for param_name in sorted(params.keys()):\n",
        "  print(\"%s : %r\" % (param_name, SVC_20_G1_gs.best_params_[param_name]))\n",
        "print('Train time for best params:', SVC_20_G1_gs.cv_results_['mean_fit_time'][SVC_20_G1_gs.best_index_])\n",
        "print('Train acc for best params:', SVC_20_G1_gs.cv_results_['mean_train_score'][SVC_20_G1_gs.best_index_])\n",
        "print('CV acc for best params:', SVC_20_G1_gs.best_score_)\n",
        "\n",
        "# Check how the best performs:\n",
        "SVC_best_clf = Pipeline([\n",
        "                         ('vect', CountVectorizer()),\n",
        "                         ('tfidf', TfidfTransformer()),\n",
        "                         ('clf', LinearSVC(penalty=SVC_20_G1_gs.best_params_['clf__penalty'],\n",
        "                                           loss='squared_hinge',\n",
        "                                           dual=False,\n",
        "                                           C=SVC_20_G1_gs.best_params_['clf__C']))\n",
        "])\n",
        "\n",
        "start = time.time()\n",
        "SVC_best_clf.fit(twentyTrain.data, twentyTrain.target)\n",
        "print('Train time:', time.time()-start)\n",
        "# Train acc\n",
        "trainPreds = SVC_best_clf.predict(twentyTrain.data)\n",
        "print('Train acc:', accuracy_score(trainPreds, twentyTrain.target))"
      ],
      "execution_count": 0,
      "outputs": [
        {
          "output_type": "stream",
          "text": [
            "clf__C : 1.0\n",
            "clf__penalty : 'l2'\n",
            "Train time for best params: 7.110265398025513\n",
            "Train acc for best params: 0.973462081835768\n",
            "CV acc for best params: 0.7610048318918143\n",
            "Train time: 6.7272725105285645\n",
            "Train acc: 0.9725119321194979\n"
          ],
          "name": "stdout"
        }
      ]
    },
    {
      "cell_type": "code",
      "metadata": {
        "id": "llgvF2zwGgom",
        "colab_type": "code",
        "outputId": "428c4471-d291-4f4d-beab-0feebae2b1b8",
        "colab": {
          "base_uri": "https://localhost:8080/",
          "height": 208
        }
      },
      "source": [
        "# Grid search SVC on 20 newsgroups\n",
        "# Group 2\n",
        "# dual = True, penalty=l2\n",
        "\n",
        "# Build pipeline\n",
        "SVC_clf = Pipeline([\n",
        "    ('vect', CountVectorizer()),\n",
        "    ('tfidf', TfidfTransformer()),\n",
        "    ('clf', LinearSVC(dual=True, penalty='l2'))\n",
        "])\n",
        "# Params for main grid search\n",
        "params = {'clf__loss': ('hinge','squared_hinge'),\n",
        "          'clf__C': (0.01, 0.1, 1.0, 10, 100)}\n",
        "\n",
        "SVC_gs_clf = GridSearchCV(SVC_clf, params, n_jobs=-1, return_train_score=True, verbose=1)\n",
        "SVC_gs_clf.fit(twentyTrain.data, twentyTrain.target)\n",
        "for param_name in sorted(params.keys()):\n",
        "  print(\"%s : %r\" % (param_name, SVC_gs_clf.best_params_[param_name]))\n",
        "print('Train time for best params:', SVC_gs_clf.cv_results_['mean_fit_time'][SVC_gs_clf.best_index_])\n",
        "print('Train acc for best params:', SVC_gs_clf.cv_results_['mean_train_score'][SVC_gs_clf.best_index_])\n",
        "print('CV acc for best params:', SVC_gs_clf.best_score_)\n",
        "\n",
        "# Check how the best performs:\n",
        "SVC_best_clf = Pipeline([\n",
        "                         ('vect', CountVectorizer()),\n",
        "                         ('tfidf', TfidfTransformer()),\n",
        "                         ('clf', LinearSVC(penalty='l2',\n",
        "                                           loss=SVC_gs_clf.best_params_['clf__loss'],\n",
        "                                           dual=True,\n",
        "                                           C=SVC_gs_clf.best_params_['clf__C']))\n",
        "])\n",
        "\n",
        "start = time.time()\n",
        "SVC_best_clf.fit(twentyTrain.data, twentyTrain.target)\n",
        "print('Train time:', time.time()-start)\n",
        "# Train acc\n",
        "trainPreds = SVC_best_clf.predict(twentyTrain.data)\n",
        "print('Train acc:', accuracy_score(trainPreds, twentyTrain.target))"
      ],
      "execution_count": 0,
      "outputs": [
        {
          "output_type": "stream",
          "text": [
            "Fitting 5 folds for each of 10 candidates, totalling 50 fits\n"
          ],
          "name": "stdout"
        },
        {
          "output_type": "stream",
          "text": [
            "[Parallel(n_jobs=-1)]: Using backend LokyBackend with 2 concurrent workers.\n",
            "[Parallel(n_jobs=-1)]: Done  46 tasks      | elapsed:  4.3min\n",
            "[Parallel(n_jobs=-1)]: Done  50 out of  50 | elapsed:  5.5min finished\n"
          ],
          "name": "stderr"
        },
        {
          "output_type": "stream",
          "text": [
            "clf__C : 1.0\n",
            "clf__loss : 'squared_hinge'\n",
            "Train time for best params: 3.9801932334899903\n",
            "Train acc for best params: 0.973462081835768\n",
            "CV acc for best params: 0.7610048318918143\n",
            "Train time: 2.9943928718566895\n",
            "Train acc: 0.9725119321194979\n"
          ],
          "name": "stdout"
        }
      ]
    },
    {
      "cell_type": "code",
      "metadata": {
        "id": "bkj2BgAuORDk",
        "colab_type": "code",
        "outputId": "d77097a9-6aae-4a5f-bec6-a2456fdb6faa",
        "colab": {
          "base_uri": "https://localhost:8080/",
          "height": 191
        }
      },
      "source": [
        "# Build pipeline\n",
        "SVC_20_fine = Pipeline([\n",
        "    ('vect', CountVectorizer()),\n",
        "    ('tfidf', TfidfTransformer()),\n",
        "    ('clf', LinearSVC(dual=True, penalty='l2', loss='squared_hinge'))\n",
        "])\n",
        "# Params for main grid search\n",
        "params = {'clf__C': (0.2, 0.4, 0.6, 0.8, 0.85, 0.9, 0.95, 1.05, 1.1, 1.2, 1.5, 2, 3, 5, 7)}\n",
        "\n",
        "SVC_20_fine_gs = GridSearchCV(SVC_20_fine, params, n_jobs=-1, return_train_score=True, verbose=1)\n",
        "SVC_20_fine_gs.fit(twentyTrain.data, twentyTrain.target)\n",
        "for param_name in sorted(params.keys()):\n",
        "  print(\"%s : %r\" % (param_name, SVC_20_fine_gs.best_params_[param_name]))\n",
        "print('Train time for best params:', SVC_20_fine_gs.cv_results_['mean_fit_time'][SVC_20_fine_gs.best_index_])\n",
        "print('Train acc for best params:', SVC_20_fine_gs.cv_results_['mean_train_score'][SVC_20_fine_gs.best_index_])\n",
        "print('CV acc for best params:', SVC_20_fine_gs.best_score_)\n",
        "\n",
        "# Check how the best performs:\n",
        "SVC_20_fine_best = Pipeline([\n",
        "                         ('vect', CountVectorizer()),\n",
        "                         ('tfidf', TfidfTransformer()),\n",
        "                         ('clf', LinearSVC(penalty='l2',\n",
        "                                           loss='squared_hinge',\n",
        "                                           dual=True,\n",
        "                                           C=SVC_20_fine_gs.best_params_['clf__C']))\n",
        "])\n",
        "\n",
        "start = time.time()\n",
        "SVC_20_fine_best.fit(twentyTrain.data, twentyTrain.target)\n",
        "print('Train time:', time.time()-start)\n",
        "# Train acc\n",
        "trainPreds = SVC_20_fine_best.predict(twentyTrain.data)\n",
        "print('Train acc:', accuracy_score(trainPreds, twentyTrain.target))"
      ],
      "execution_count": 0,
      "outputs": [
        {
          "output_type": "stream",
          "text": [
            "Fitting 5 folds for each of 15 candidates, totalling 75 fits\n"
          ],
          "name": "stdout"
        },
        {
          "output_type": "stream",
          "text": [
            "[Parallel(n_jobs=-1)]: Using backend LokyBackend with 2 concurrent workers.\n",
            "[Parallel(n_jobs=-1)]: Done  46 tasks      | elapsed:  2.5min\n",
            "[Parallel(n_jobs=-1)]: Done  75 out of  75 | elapsed:  4.6min finished\n"
          ],
          "name": "stderr"
        },
        {
          "output_type": "stream",
          "text": [
            "clf__C : 0.6\n",
            "Train time for best params: 3.7636682033538817\n",
            "Train acc for best params: 0.9701476139554457\n",
            "CV acc for best params: 0.7647169922635814\n",
            "Train time: 2.7592933177948\n",
            "Train acc: 0.9687113310942196\n"
          ],
          "name": "stdout"
        }
      ]
    },
    {
      "cell_type": "code",
      "metadata": {
        "id": "TC0amah9x2x6",
        "colab_type": "code",
        "outputId": "3f425bca-2fd5-4acc-fd3e-43065f126217",
        "colab": {
          "base_uri": "https://localhost:8080/",
          "height": 539
        }
      },
      "source": [
        "# Looking at CV results mean acc for all C\n",
        "# Made a plot to show why its not worth tuning C anymore.\n",
        "%matplotlib inline \n",
        "SVC_20_cplot = Pipeline([\n",
        "                         ('vect', CountVectorizer()),\n",
        "                         ('tfidf', TfidfTransformer()),\n",
        "                         ('clf', LinearSVC(penalty='l2',loss='squared_hinge',dual=True))\n",
        "])\n",
        "params = {'clf__C': (0.2, 0.4, 0.6, 0.8, 0.85, 0.9, 0.95, 1.05, 1.1, 1.2, 1.5, 2, 3, 5, 7)}\n",
        "SVC_20_cplot_gs = GridSearchCV(SVC_20_cplot, params, n_jobs=-1)\n",
        "SVC_20_cplot_gs.fit(twentyTrain.data, twentyTrain.target) \n",
        "cs = []\n",
        "cvAccs = []\n",
        "for p, r in zip(SVC_20_cplot_gs.cv_results_['params'], SVC_20_cplot_gs.cv_results_['mean_test_score']):\n",
        "    print(p,r)\n",
        "    cs.append(p['clf__C'])\n",
        "    cvAccs.append(r)\n",
        "fig = plt.figure()\n",
        "plt.plot(cs, cvAccs, 'b.')\n",
        "plt.xlabel('Inverse Regularization Parameter')\n",
        "plt.ylabel('Cross validated accuracy')\n",
        "plt.savefig('imdbCTunePlot', dpi=400)"
      ],
      "execution_count": 0,
      "outputs": [
        {
          "output_type": "stream",
          "text": [
            "{'clf__C': 0.2} 0.7589717021566716\n",
            "{'clf__C': 0.4} 0.7632142102238252\n",
            "{'clf__C': 0.6} 0.7647169922635814\n",
            "{'clf__C': 0.8} 0.7623304276343422\n",
            "{'clf__C': 0.85} 0.7621537101872939\n",
            "{'clf__C': 0.9} 0.7618886144812974\n",
            "{'clf__C': 0.95} 0.7616235578461492\n",
            "{'clf__C': 1.05} 0.7611815493388626\n",
            "{'clf__C': 1.1} 0.7615350623746557\n",
            "{'clf__C': 1.2} 0.7607396189732728\n",
            "{'clf__C': 1.5} 0.7589719365817618\n",
            "{'clf__C': 2} 0.7582648714393271\n",
            "{'clf__C': 3} 0.7568505458002159\n",
            "{'clf__C': 5} 0.7528730943682108\n",
            "{'clf__C': 7} 0.7508403162707031\n"
          ],
          "name": "stdout"
        },
        {
          "output_type": "display_data",
          "data": {
            "image/png": "[encoded data removed]",
            "text/plain": [
              "<Figure size 432x288 with 1 Axes>"
            ]
          },
          "metadata": {
            "tags": []
          }
        }
      ]
    },
    {
      "cell_type": "code",
      "metadata": {
        "id": "2nCdgzuw3y1O",
        "colab_type": "code",
        "colab": {}
      },
      "source": [
        "# Tuning Count Vec and tfidf, 20 newsgroups\n",
        "SVC_20_feat_tune = Pipeline([\n",
        "                        ('vect', CountVectorizer()),\n",
        "                        ('tfidf', TfidfTransformer()),\n",
        "                        ('clf', LinearSVC(penalty='l2', dual=True, loss='squared_hinge'))                            \n",
        "])\n",
        "params = {'vect__ngram_range': ((1,1), (1,2)),\n",
        "         'vect__max_df': (0.2, 0.4, 0.6, 0.8, 1.0),\n",
        "          'tfidf__sublinear_tf': (True, False),\n",
        "         'clf__C': (0.01, 0.1, 1.0, 10, 20)}\n",
        "\n",
        "SVC_20_feat_tune_gs = GridSearchCV(SVC_20_feat_tune, params, return_train_score=True)\n",
        "SVC_20_feat_tune_gs.fit(twentyTrain.data, twentyTrain.target) \n",
        "\n",
        "for param_name in sorted(params.keys()):\n",
        "  print(\"%s : %r\" % (param_name, SVC_20_feat_tune_gs.best_params_[param_name]))\n",
        "print('Train time for best params:', SVC_20_feat_tune_gs.cv_results_['mean_fit_time'][SVC_20_feat_tune_gs.best_index_])\n",
        "print('Train acc for best params:', SVC_20_feat_tune_gs.cv_results_['mean_train_score'][SVC_20_feat_tune_gs.best_index_])\n",
        "print('CV acc for best params:', SVC_20_feat_tune_gs.best_score_)\n",
        "\n",
        "# Check how the best performs:\n",
        "SVC_20_feat_tune_best = Pipeline([\n",
        "                         ('vect', CountVectorizer(ngram_range=SVC_20_feat_tune_gs.best_params_['vect__ngram_range'],\n",
        "                                                  max_df=SVC_20_feat_tune_gs.best_params_['vect__max_df'])),\n",
        "                         ('tfidf', TfidfTransformer(sublinear_tf=SVC_20_feat_tune_gs.best_params_['tfidf__sublinear_tf'])),\n",
        "                         ('clf', LinearSVC(penalty='l2',\n",
        "                                           loss='squared_hinge',\n",
        "                                           dual=True,\n",
        "                                           C=SVC_20_feat_tune_gs.best_params_['clf__C']))\n",
        "])\n",
        "\n",
        "start = time.time()\n",
        "SVC_20_feat_tune_best.fit(twentyTrain.data, twentyTrain.target)\n",
        "print('Train time:', time.time()-start)\n",
        "# Train acc\n",
        "trainPreds = SVC_20_feat_tune_best.predict(twentyTrain.data)\n",
        "print('Train acc:', accuracy_score(trainPreds, twentyTrain.target))"
      ],
      "execution_count": 0,
      "outputs": []
    },
    {
      "cell_type": "code",
      "metadata": {
        "id": "VhCOyGb6u_Is",
        "colab_type": "code",
        "outputId": "f206744d-12f8-4207-b6a2-71b504799307",
        "colab": {
          "base_uri": "https://localhost:8080/",
          "height": 35
        }
      },
      "source": [
        "# Best SVC on 20 newsgroups with feature tuning\n",
        "SVC_20_best = Pipeline([\n",
        "                        ('vect', CountVectorizer(ngram_range=(1,2), max_df=0.2)),\n",
        "                        ('tfidf', TfidfTransformer(sublinear_tf=True)),\n",
        "                        ('clf', LinearSVC(penalty='l2', C=20.0, dual=True, loss='squared_hinge'))\n",
        "])\n",
        "SVC_20_best.fit(twentyTrain.data, twentyTrain.target)\n",
        "SVC20BestPreds = SVC_20_best.predict(twentyTest.data)\n",
        "print(\"SVC 20 Newsgroups best classifier accuracy: \", accuracy_score(twentyTest.target, SVC20BestPreds))"
      ],
      "execution_count": 0,
      "outputs": [
        {
          "output_type": "stream",
          "text": [
            "SVC 20 Newsgroups best classifier accuracy:  0.7048592671269251\n"
          ],
          "name": "stdout"
        }
      ]
    },
    {
      "cell_type": "code",
      "metadata": {
        "id": "3ay8yb4a0owK",
        "colab_type": "code",
        "outputId": "d63d8cbd-b14e-46e6-88da-579f63c30794",
        "colab": {
          "base_uri": "https://localhost:8080/",
          "height": 52
        }
      },
      "source": [
        "# Performing first two steps of pipeline separately to be able to study them.\n",
        "# First, look at new feature design\n",
        "CountVec = CountVectorizer(max_df=0.2, ngram_range=(1,2))\n",
        "twentyTrain_count = CountVec.fit_transform(imdbTrain.data)\n",
        "tfidfVec = TfidfTransformer(sublinear_tf=True).fit(twentyTrain_count)\n",
        "twentyTrain_tfidf = tfidfVec.transform(twentyTrain_count)\n",
        "print('New design shape:', twentyTrain_tfidf.shape)\n",
        "# Now, look at default\n",
        "CountVec_def = CountVectorizer()\n",
        "twentyTrain_count_def = CountVec_def.fit_transform(twentyTrain.data)\n",
        "tfidfVec_def = TfidfTransformer().fit(twentyTrain_count_def)\n",
        "twentyTrain_tfidf_def = tfidfVec_def.transform(twentyTrain_count_def)\n",
        "print('Default shape:', twentyTrain_tfidf_def.shape)"
      ],
      "execution_count": 0,
      "outputs": [
        {
          "output_type": "stream",
          "text": [
            "New design shape: (25000, 1513704)\n",
            "Default shape: (11314, 101631)\n"
          ],
          "name": "stdout"
        }
      ]
    }
  ]
}
